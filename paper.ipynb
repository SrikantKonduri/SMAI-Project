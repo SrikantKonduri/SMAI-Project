{
  "nbformat": 4,
  "nbformat_minor": 0,
  "metadata": {
    "colab": {
      "provenance": []
    },
    "kernelspec": {
      "name": "python3",
      "display_name": "Python 3"
    },
    "language_info": {
      "name": "python"
    },
    "accelerator": "GPU",
    "gpuClass": "standard"
  },
  "cells": [
    {
      "cell_type": "code",
      "source": [
        "import warnings\n",
        "warnings.filterwarnings(\"ignore\")\n",
        "\n",
        "import numpy as np\n",
        "import pandas as pd\n",
        "\n",
        "import matplotlib.pyplot as plt\n",
        "import seaborn as sns\n",
        "%matplotlib inline\n",
        "from tqdm import tqdm\n",
        "import torch\n",
        "import torchvision\n",
        "from torchvision import datasets\n",
        "from torchvision import transforms\n",
        "from torch.autograd import Variable\n",
        "import torch.nn as nn\n",
        "from sklearn.metrics import classification_report,confusion_matrix\n",
        "import torch.nn.init as init\n",
        "import os\n",
        "import torch\n"
      ],
      "metadata": {
        "id": "4RJonoI0UE7x"
      },
      "execution_count": 1,
      "outputs": []
    },
    {
      "cell_type": "code",
      "source": [
        "device = ''\n",
        "if torch.cuda.is_available():\n",
        "    device = torch.device(\"cuda\")\n",
        "else:\n",
        "    device = torch.device('cpu')\n",
        "print(\"Using {}.\".format(device))"
      ],
      "metadata": {
        "id": "57twzupvoFcH",
        "colab": {
          "base_uri": "https://localhost:8080/"
        },
        "outputId": "7b8fead8-4fed-4d36-9d51-9a0f88dde206"
      },
      "execution_count": 2,
      "outputs": [
        {
          "output_type": "stream",
          "name": "stdout",
          "text": [
            "Using cuda.\n"
          ]
        }
      ]
    },
    {
      "cell_type": "code",
      "execution_count": 3,
      "metadata": {
        "id": "jTJgPlvclZoa",
        "colab": {
          "base_uri": "https://localhost:8080/"
        },
        "outputId": "702ace73-234f-4da6-ed5b-540e7cc3e7f5"
      },
      "outputs": [
        {
          "output_type": "stream",
          "name": "stdout",
          "text": [
            "Data:\n",
            " [[ 1.00000000e+00  0.00000000e+00]\n",
            " [ 9.45817242e-01  3.24699469e-01]\n",
            " [ 7.89140509e-01  6.14212713e-01]\n",
            " [ 5.46948158e-01  8.37166478e-01]\n",
            " [ 2.45485487e-01  9.69400266e-01]\n",
            " [-8.25793455e-02  9.96584493e-01]\n",
            " [-4.01695425e-01  9.15773327e-01]\n",
            " [-6.77281572e-01  7.35723911e-01]\n",
            " [-8.79473751e-01  4.75947393e-01]\n",
            " [-9.86361303e-01  1.64594590e-01]\n",
            " [-9.86361303e-01 -1.64594590e-01]\n",
            " [-8.79473751e-01 -4.75947393e-01]\n",
            " [-6.77281572e-01 -7.35723911e-01]\n",
            " [-4.01695425e-01 -9.15773327e-01]\n",
            " [-8.25793455e-02 -9.96584493e-01]\n",
            " [ 2.45485487e-01 -9.69400266e-01]\n",
            " [ 5.46948158e-01 -8.37166478e-01]\n",
            " [ 7.89140509e-01 -6.14212713e-01]\n",
            " [ 9.45817242e-01 -3.24699469e-01]\n",
            " [ 1.00000000e+00 -2.44929360e-16]]\n",
            "Labels:\n",
            " [1. 0. 1. 0. 1. 0. 1. 0. 1. 0. 1. 0. 1. 0. 1. 0. 1. 0. 1. 0.]\n"
          ]
        }
      ],
      "source": [
        "# Define radius and center of circle\n",
        "r = 1\n",
        "center = (0, 0)\n",
        "\n",
        "# Define angle range for circle\n",
        "theta = np.linspace(0, 2*np.pi, 20)\n",
        "\n",
        "# Generate coordinates for points on circle\n",
        "x = center[0] + r*np.cos(theta)\n",
        "y = center[1] + r*np.sin(theta)\n",
        "\n",
        "# Combine x and y into a single array\n",
        "data = np.stack((x, y), axis=1)\n",
        "\n",
        "# Assign alternating labels\n",
        "labels = np.ones(20)\n",
        "labels[1::2] = 0\n",
        "labels=np.asarray([float(i) for i in labels])\n",
        "print(\"Data:\\n\", data)\n",
        "print(\"Labels:\\n\", labels)\n"
      ]
    },
    {
      "cell_type": "code",
      "source": [
        "\n",
        "plt.scatter(data[:,0], data[:,1], c=labels, cmap='coolwarm')\n",
        "plt.show()"
      ],
      "metadata": {
        "id": "f0OgnVoZmspg",
        "colab": {
          "base_uri": "https://localhost:8080/",
          "height": 430
        },
        "outputId": "36d2ccbd-b3e5-48b8-aaa6-6ebeac910333"
      },
      "execution_count": 4,
      "outputs": [
        {
          "output_type": "display_data",
          "data": {
            "text/plain": [
              "<Figure size 640x480 with 1 Axes>"
            ],
            "image/png": "[encoded data removed]"
          },
          "metadata": {}
        }
      ]
    },
    {
      "cell_type": "code",
      "source": [
        "class ReconNet(nn.Module):\n",
        "    def __init__(self):\n",
        "        super(ReconNet,self).__init__()\n",
        "        self.layer1 = nn.Linear(2,1000)\n",
        "        self.relu1 = nn.ReLU()\n",
        "        self.layer2 = nn.Linear(1000,1000)\n",
        "        self.relu2 = nn.ReLU()\n",
        "        self.layer3 = nn.Linear(1000,1)\n",
        "        self.sigmoid = nn.Sigmoid()\n",
        "        self.double()\n",
        "\n",
        "        init.constant_(self.layer2.bias, 0)\n",
        "        init.constant_(self.layer3.bias, 0)\n",
        "\n",
        "        init.normal_(self.layer1.weight, mean=0, std=0.0001)\n",
        "        init.kaiming_uniform_(self.layer1.weight)\n",
        "        init.kaiming_uniform_(self.layer2.weight)\n",
        "\n",
        "    def forward(self,x):\n",
        "        x = self.layer1(x)\n",
        "        x = self.relu1(x)\n",
        "        x = self.layer2(x)\n",
        "        x = self.relu2(x)\n",
        "        x = self.layer3(x)\n",
        "        x = self.sigmoid(x)\n",
        "        return x\n",
        "      \n"
      ],
      "metadata": {
        "id": "MIA0c8tYGBXV"
      },
      "execution_count": 5,
      "outputs": []
    },
    {
      "cell_type": "code",
      "source": [],
      "metadata": {
        "id": "5XblhJOenoDO"
      },
      "execution_count": 5,
      "outputs": []
    },
    {
      "cell_type": "code",
      "source": [
        "import torch\n",
        "from torch.utils.data import Dataset, DataLoader\n",
        "\n",
        "class MyDataset(Dataset):\n",
        "    def __init__(self, data, labels):\n",
        "        self.data = data\n",
        "        self.labels = labels\n",
        "        \n",
        "    def __len__(self):\n",
        "        return len(self.data)\n",
        "    \n",
        "    def __getitem__(self, idx):\n",
        "        return self.data[idx], self.labels[idx]"
      ],
      "metadata": {
        "id": "nQfoNfu-YgFv"
      },
      "execution_count": 6,
      "outputs": []
    },
    {
      "cell_type": "code",
      "source": [
        "dataset = MyDataset(data, labels)\n",
        "dataloader = DataLoader(dataset, batch_size=20,shuffle=True)"
      ],
      "metadata": {
        "id": "8XvzzP-PZAS6"
      },
      "execution_count": 7,
      "outputs": []
    },
    {
      "cell_type": "code",
      "source": [
        "for i in dataloader:\n",
        "    print(len(i[0]))\n",
        "#   output=model(i[0])\n",
        "  # print(output.squeeze(dim=0))\n",
        "  "
      ],
      "metadata": {
        "id": "VnhgWGHTZ72C",
        "colab": {
          "base_uri": "https://localhost:8080/"
        },
        "outputId": "2512e859-37d2-40ef-c9e6-29791969f948"
      },
      "execution_count": 8,
      "outputs": [
        {
          "output_type": "stream",
          "name": "stdout",
          "text": [
            "20\n"
          ]
        }
      ]
    },
    {
      "cell_type": "code",
      "source": [
        "model=ReconNet().to(device)\n",
        "optimizer = torch.optim.SGD(model.parameters(),lr=0.01)\n",
        "criterion = nn.BCELoss()\n",
        " \n",
        "n_epochs=100000\n",
        "epochs=tqdm(range(n_epochs))\n",
        "training_loss_sgd=[]\n",
        "for epoch in epochs:\n",
        "  train_loss=[]\n",
        "  model.train()\n",
        "  for batch in dataloader:\n",
        "    optimizer.zero_grad()\n",
        "    images=batch[0].to(device)\n",
        "    label=batch[1].to(device)\n",
        "    output=model(images)\n",
        "    #print(output.dtype)\n",
        "    loss=nn.BCELoss()(output.squeeze(),label)\n",
        "    loss.backward()\n",
        "    optimizer.step()\n",
        "    train_loss.append(loss.item())\n",
        "  loss_now=np.mean(train_loss)\n",
        "  training_loss_sgd.append(loss_now)\n",
        "  epochs.set_postfix({'loss':loss_now}) \n"
      ],
      "metadata": {
        "id": "TDcwqrl2nqM7",
        "colab": {
          "base_uri": "https://localhost:8080/"
        },
        "outputId": "10dab59b-fe61-4cac-a8af-0186e7b08e51"
      },
      "execution_count": 9,
      "outputs": [
        {
          "output_type": "stream",
          "name": "stderr",
          "text": [
            "100%|██████████| 100000/100000 [08:35<00:00, 193.83it/s, loss=0.0706]\n"
          ]
        }
      ]
    },
    {
      "cell_type": "code",
      "source": [
        "weights_1 = model.layer1.weight.data\n",
        "weights_2 = model.layer2.weight.data\n",
        "weights_3 = model.layer3.weight.data\n",
        "# print(weights_1.shape)\n",
        "# print(weights_2.shape)\n",
        "# print(weights_3.shape)"
      ],
      "metadata": {
        "id": "7QxXlNvnZJyb"
      },
      "execution_count": 10,
      "outputs": []
    },
    {
      "cell_type": "code",
      "source": [
        "m = 100"
      ],
      "metadata": {
        "id": "1GOQtkX2p0OD"
      },
      "execution_count": 11,
      "outputs": []
    },
    {
      "cell_type": "code",
      "source": [
        "x_recons = torch.randn(m, 2,dtype=torch.float64) #creating random x \n",
        "lambda_i=torch.rand(m)#creating random lamdas for respective x\n",
        "optim_x_recons = torch.optim.SGD([x_recons], lr=0.1, momentum=0.9) #making it optimising variable\n",
        "optim_lambda_i=torch.optim.SGD([lambda_i],lr=0.1,momentum=0.9) #making it optimising variable"
      ],
      "metadata": {
        "id": "qTenqv7Ho-G3"
      },
      "execution_count": 12,
      "outputs": []
    },
    {
      "cell_type": "code",
      "source": [
        "x_recons.requires_grad_(True)\n",
        "lambda_i.requires_grad_(True)\n",
        "x_recons.dtype"
      ],
      "metadata": {
        "colab": {
          "base_uri": "https://localhost:8080/"
        },
        "id": "KIoidvL50ZtV",
        "outputId": "f27568c7-fbe3-4f0a-a1fa-79b04eedacf1"
      },
      "execution_count": 13,
      "outputs": [
        {
          "output_type": "execute_result",
          "data": {
            "text/plain": [
              "torch.float64"
            ]
          },
          "metadata": {},
          "execution_count": 13
        }
      ]
    },
    {
      "cell_type": "code",
      "source": [
        "x_recons = x_recons.to(device)\n",
        "values=model(x_recons)\n",
        "values = values.to(device)"
      ],
      "metadata": {
        "id": "cSbsqxSYC7lq"
      },
      "execution_count": 14,
      "outputs": []
    },
    {
      "cell_type": "code",
      "source": [
        "values=values.reshape(-1)"
      ],
      "metadata": {
        "id": "MgOvl10OC-8K"
      },
      "execution_count": 15,
      "outputs": []
    },
    {
      "cell_type": "code",
      "source": [
        "x_recons #before\n"
      ],
      "metadata": {
        "colab": {
          "base_uri": "https://localhost:8080/"
        },
        "id": "34P72io5P-Rh",
        "outputId": "e438e6ae-284c-4793-ab76-32fd97263250"
      },
      "execution_count": 16,
      "outputs": [
        {
          "output_type": "execute_result",
          "data": {
            "text/plain": [
              "tensor([[ 1.3757e+00,  6.7080e-01],\n",
              "        [-1.2816e+00, -2.1224e+00],\n",
              "        [ 5.7645e-02,  5.1293e-01],\n",
              "        [ 1.2700e+00,  7.4462e-01],\n",
              "        [-4.3518e-02,  1.0027e+00],\n",
              "        [-1.6440e-01, -7.9146e-01],\n",
              "        [-1.4138e+00, -7.9769e-02],\n",
              "        [-8.0361e-01, -8.3990e-01],\n",
              "        [ 9.1620e-01, -2.6055e-01],\n",
              "        [ 6.2812e-01, -2.8007e-01],\n",
              "        [ 9.7262e-01, -1.1228e+00],\n",
              "        [ 1.3784e+00, -7.0282e-01],\n",
              "        [-1.2280e+00, -6.5350e-01],\n",
              "        [ 2.5231e-01,  5.4809e-01],\n",
              "        [-5.0181e-01, -3.7528e-01],\n",
              "        [ 4.4862e-01, -1.9877e+00],\n",
              "        [ 1.4579e+00,  4.9683e-02],\n",
              "        [-5.3106e-01, -3.6918e-01],\n",
              "        [ 6.2694e-01, -4.7773e-01],\n",
              "        [ 1.7890e+00, -3.2119e-01],\n",
              "        [-2.6501e-01, -2.0995e+00],\n",
              "        [ 3.1310e-02,  5.0649e-01],\n",
              "        [-7.4338e-01,  1.2877e+00],\n",
              "        [-6.5491e-02, -2.4701e-01],\n",
              "        [ 1.7636e+00, -1.1758e+00],\n",
              "        [-7.4489e-01, -5.6220e-02],\n",
              "        [ 1.3085e-01, -8.0950e-02],\n",
              "        [-2.8029e-01,  1.4292e+00],\n",
              "        [ 9.1285e-01, -1.1776e-01],\n",
              "        [ 2.1176e+00, -1.1240e+00],\n",
              "        [-2.1575e-02,  1.0634e+00],\n",
              "        [ 8.5832e-02, -3.0132e-01],\n",
              "        [ 6.2541e-01, -6.3818e-01],\n",
              "        [-1.5117e+00, -9.6049e-01],\n",
              "        [ 3.0751e-01,  2.2983e-01],\n",
              "        [ 6.2574e-01, -3.8117e-02],\n",
              "        [ 1.6730e+00, -3.7570e-01],\n",
              "        [-6.2488e-02, -1.0581e+00],\n",
              "        [ 5.6950e-01, -1.7561e+00],\n",
              "        [-4.5817e-01, -3.7435e-01],\n",
              "        [-1.4316e+00, -1.3483e+00],\n",
              "        [ 2.6298e-01, -4.5768e-01],\n",
              "        [ 4.8901e-01,  1.2262e+00],\n",
              "        [ 5.9040e-01,  1.6659e+00],\n",
              "        [ 7.0717e-01,  6.8432e-01],\n",
              "        [ 2.5191e-02,  3.9626e-01],\n",
              "        [ 2.7671e-02, -1.8511e-01],\n",
              "        [-9.8569e-01, -9.9762e-02],\n",
              "        [ 7.0005e-01, -7.8137e-01],\n",
              "        [-1.2678e-03, -2.9258e-01],\n",
              "        [ 1.9636e+00, -1.8066e+00],\n",
              "        [-1.1915e+00,  9.6844e-02],\n",
              "        [ 1.3018e+00, -2.2221e-01],\n",
              "        [-6.5810e-02, -7.2843e-01],\n",
              "        [ 4.6120e-01,  1.3276e+00],\n",
              "        [ 6.6279e-02,  3.7256e-01],\n",
              "        [-8.2639e-01, -6.7171e-01],\n",
              "        [-1.0889e+00, -3.9990e-01],\n",
              "        [ 1.6673e+00, -2.8745e-01],\n",
              "        [ 5.2447e-01, -1.2037e+00],\n",
              "        [ 1.7569e+00,  1.1957e+00],\n",
              "        [-1.4332e+00, -8.2308e-01],\n",
              "        [ 6.0365e-01,  8.3106e-01],\n",
              "        [-6.7921e-01,  2.9553e+00],\n",
              "        [ 1.1043e+00,  3.5805e-01],\n",
              "        [ 1.6391e-01,  2.2089e+00],\n",
              "        [-2.3564e+00, -8.3792e-02],\n",
              "        [-9.1009e-02, -5.9224e-01],\n",
              "        [ 2.8319e-01,  1.2879e-01],\n",
              "        [-5.2727e-01, -1.0723e+00],\n",
              "        [ 2.2564e-01, -3.7109e-01],\n",
              "        [ 1.6578e+00, -1.4230e+00],\n",
              "        [ 1.1277e+00,  8.9201e-01],\n",
              "        [ 8.6606e-01, -1.1780e+00],\n",
              "        [ 9.5513e-01, -4.1218e-01],\n",
              "        [ 8.7565e-01,  2.6953e-01],\n",
              "        [ 9.2983e-01,  1.9298e+00],\n",
              "        [ 6.6525e-01,  9.4818e-01],\n",
              "        [ 2.6959e-02,  5.4535e-01],\n",
              "        [ 3.5931e-03, -2.2560e-01],\n",
              "        [-2.1216e+00, -1.0006e+00],\n",
              "        [ 7.9233e-01,  1.0266e+00],\n",
              "        [ 1.5293e+00, -3.0393e-02],\n",
              "        [-6.0158e-01, -8.8301e-02],\n",
              "        [-4.2447e-01,  2.1347e-01],\n",
              "        [ 3.2560e-02,  1.2547e+00],\n",
              "        [ 9.2669e-01,  9.5265e-02],\n",
              "        [ 5.1581e-01, -2.5414e-02],\n",
              "        [ 1.1362e+00, -1.9830e+00],\n",
              "        [-4.5280e-02, -9.7007e-01],\n",
              "        [-3.4517e-01, -6.5080e-01],\n",
              "        [-1.9438e+00, -1.6356e+00],\n",
              "        [-9.5338e-01, -1.8169e+00],\n",
              "        [ 1.0308e+00,  3.1858e-01],\n",
              "        [-1.2320e+00, -1.0011e+00],\n",
              "        [ 2.2040e+00,  7.4979e-01],\n",
              "        [ 1.0385e+00, -1.2666e+00],\n",
              "        [ 7.2647e-01, -1.8789e+00],\n",
              "        [ 1.1101e+00, -1.9141e-01],\n",
              "        [ 9.4855e-01,  1.0379e+00]], device='cuda:0', dtype=torch.float64,\n",
              "       grad_fn=<ToCopyBackward0>)"
            ]
          },
          "metadata": {},
          "execution_count": 16
        }
      ]
    },
    {
      "cell_type": "code",
      "source": [
        "print(lambda_i.shape,y.shape,values.shape)"
      ],
      "metadata": {
        "colab": {
          "base_uri": "https://localhost:8080/"
        },
        "id": "pt9dcOBNSyGP",
        "outputId": "0d1bd17a-4f94-40d2-b571-306fb1f3ce91"
      },
      "execution_count": 17,
      "outputs": [
        {
          "output_type": "stream",
          "name": "stdout",
          "text": [
            "torch.Size([100]) (20,) torch.Size([100])\n"
          ]
        }
      ]
    },
    {
      "cell_type": "code",
      "source": [
        "lambda_i.dim()"
      ],
      "metadata": {
        "colab": {
          "base_uri": "https://localhost:8080/"
        },
        "id": "HU75yXoGSD_s",
        "outputId": "150c40b2-a415-4422-e141-5e33f9eca22f"
      },
      "execution_count": 18,
      "outputs": [
        {
          "output_type": "execute_result",
          "data": {
            "text/plain": [
              "1"
            ]
          },
          "metadata": {},
          "execution_count": 18
        }
      ]
    },
    {
      "cell_type": "code",
      "source": [
        "y = torch.ones(100)\n",
        "y[:50] =0"
      ],
      "metadata": {
        "id": "WDkugyYHJEiy"
      },
      "execution_count": 19,
      "outputs": []
    },
    {
      "cell_type": "code",
      "source": [
        "import itertools\n",
        "def get_kkt_loss(values, lambda_i, y, model):\n",
        "    lambda_i = lambda_i.squeeze()\n",
        "    assert values.dim() == 1\n",
        "    assert lambda_i.dim() == 1\n",
        "    assert y.dim() == 1\n",
        "    assert values.shape == lambda_i.shape == y.shape\n",
        "\n",
        "    output = values * lambda_i * y\n",
        "    # output = values \n",
        "    mult = lambda_i * y\n",
        "    params = model.parameters()\n",
        "    grad = torch.autograd.grad(\n",
        "        outputs=output,\n",
        "        inputs=model.parameters(),\n",
        "        grad_outputs=torch.ones_like(mult, requires_grad=False, device=output.device).div(m),\n",
        "        create_graph=True,\n",
        "        retain_graph=True,\n",
        "    )\n",
        "    kkt_loss = 0\n",
        "    length = len(list(params))\n",
        "\n",
        "    # print(length)\n",
        "    # print(type(list(params)))\n",
        "    # print(len(grad))\n",
        "    for i, (p, grad) in enumerate(zip(model.parameters(), grad)):\n",
        "        assert p.shape == grad.shape\n",
        "        l = (p.detach().data - grad).pow(2).sum()\n",
        "        kkt_loss += l\n",
        "    return kkt_loss"
      ],
      "metadata": {
        "id": "MUgMzumwDoHy"
      },
      "execution_count": 20,
      "outputs": []
    },
    {
      "cell_type": "code",
      "source": [
        "lambda_i = lambda_i.to(device)\n",
        "y = y.to(device)\n",
        "kkt_loss=get_kkt_loss(values,lambda_i,y,model)\n",
        "print(type(lambda_i))\n",
        "# print(kkt_loss)\n",
        "# print(values.dim())\n",
        "# print(lambda_i[0].shape)\n",
        "# print(y.dim())\n",
        "# print(values)"
      ],
      "metadata": {
        "id": "17jh4uxSPxBG",
        "colab": {
          "base_uri": "https://localhost:8080/"
        },
        "outputId": "2f659975-5d64-40e8-ead1-54a3a57a3f5b"
      },
      "execution_count": 21,
      "outputs": [
        {
          "output_type": "stream",
          "name": "stdout",
          "text": [
            "<class 'torch.Tensor'>\n"
          ]
        }
      ]
    },
    {
      "cell_type": "code",
      "source": [
        "kkt_loss = get_kkt_loss(values,lambda_i,y,model)\n",
        "print(kkt_loss)"
      ],
      "metadata": {
        "colab": {
          "base_uri": "https://localhost:8080/"
        },
        "id": "qVHKz_qxP1K9",
        "outputId": "972c9610-0b32-4a77-99b4-2cc6ce4c67a7"
      },
      "execution_count": 22,
      "outputs": [
        {
          "output_type": "stream",
          "name": "stdout",
          "text": [
            "tensor(4202.7805, device='cuda:0', dtype=torch.float64, grad_fn=<AddBackward0>)\n"
          ]
        }
      ]
    },
    {
      "cell_type": "code",
      "source": [
        "def get_verify_loss(x, l):\n",
        "    loss_verify = 0\n",
        "    loss_verify += 1 * (x - 1).relu().pow(2).sum()\n",
        "    loss_verify += 1 * (-1 - x).relu().pow(2).sum()\n",
        "    loss_verify += 5 * (-l + 0.4983026413803425).relu().pow(2).sum()\n",
        "    return loss_verify"
      ],
      "metadata": {
        "id": "ANB0t9rATTl3"
      },
      "execution_count": 23,
      "outputs": []
    },
    {
      "cell_type": "code",
      "source": [
        "def getLambdaLoss(lambda_i):\n",
        "    temp = list(lambda_i)\n",
        "    loss_lambda = 0\n",
        "    for l in lambda_i:\n",
        "        loss_lambda += max(-1 * l,0)\n",
        "    return loss_lambda"
      ],
      "metadata": {
        "id": "HJZ45WUgXGCl"
      },
      "execution_count": 24,
      "outputs": []
    },
    {
      "cell_type": "code",
      "source": [
        "loss_verify=get_verify_loss(x_recons,lambda_i)\n",
        "loss_lambda = getLambdaLoss(lambda_i)\n",
        "print(loss_lambda)"
      ],
      "metadata": {
        "id": "p69FrcJFm7pk",
        "colab": {
          "base_uri": "https://localhost:8080/"
        },
        "outputId": "4598db7e-35e8-430c-c8db-b3ad0e5b9d9e"
      },
      "execution_count": 25,
      "outputs": [
        {
          "output_type": "stream",
          "name": "stdout",
          "text": [
            "0\n"
          ]
        }
      ]
    },
    {
      "cell_type": "code",
      "source": [
        "for epoch in range(100000):\n",
        "        values = model(x_recons).squeeze()\n",
        "        kkt_loss, loss_verify =get_kkt_loss(values,lambda_i,y,model),get_verify_loss(x_recons,lambda_i)\n",
        "        # loss=kkt_loss+loss_verify\n",
        "        lambda_loss = getLambdaLoss(lambda_i)\n",
        "        loss=kkt_loss + lambda_loss\n",
        "        if np.isnan(kkt_loss.item()):\n",
        "            raise ValueError('Optimizer diverged during extraction')\n",
        "        optim_x_recons.zero_grad()\n",
        "        optim_lambda_i.zero_grad()\n",
        "        loss.backward()\n",
        "        optim_x_recons.step()\n",
        "        optim_lambda_i.step()\n",
        "        if(epoch%1000==0):\n",
        "            print(epoch,\" \",kkt_loss,\" \",loss)\n",
        "        "
      ],
      "metadata": {
        "id": "qIpnDa68nFkf",
        "colab": {
          "base_uri": "https://localhost:8080/"
        },
        "outputId": "d0297a61-42ef-4793-865a-77bcf4ae5be1"
      },
      "execution_count": 26,
      "outputs": [
        {
          "output_type": "stream",
          "name": "stdout",
          "text": [
            "0   tensor(4202.7805, device='cuda:0', dtype=torch.float64, grad_fn=<AddBackward0>)   tensor(4202.7805, device='cuda:0', dtype=torch.float64, grad_fn=<AddBackward0>)\n",
            "1000   tensor(4202.7805, device='cuda:0', dtype=torch.float64, grad_fn=<AddBackward0>)   tensor(4202.7805, device='cuda:0', dtype=torch.float64, grad_fn=<AddBackward0>)\n",
            "2000   tensor(4202.7805, device='cuda:0', dtype=torch.float64, grad_fn=<AddBackward0>)   tensor(4202.7805, device='cuda:0', dtype=torch.float64, grad_fn=<AddBackward0>)\n",
            "3000   tensor(4202.7805, device='cuda:0', dtype=torch.float64, grad_fn=<AddBackward0>)   tensor(4202.7805, device='cuda:0', dtype=torch.float64, grad_fn=<AddBackward0>)\n",
            "4000   tensor(4202.7805, device='cuda:0', dtype=torch.float64, grad_fn=<AddBackward0>)   tensor(4202.7805, device='cuda:0', dtype=torch.float64, grad_fn=<AddBackward0>)\n",
            "5000   tensor(4202.7805, device='cuda:0', dtype=torch.float64, grad_fn=<AddBackward0>)   tensor(4202.7805, device='cuda:0', dtype=torch.float64, grad_fn=<AddBackward0>)\n",
            "6000   tensor(4202.7805, device='cuda:0', dtype=torch.float64, grad_fn=<AddBackward0>)   tensor(4202.7805, device='cuda:0', dtype=torch.float64, grad_fn=<AddBackward0>)\n",
            "7000   tensor(4202.7805, device='cuda:0', dtype=torch.float64, grad_fn=<AddBackward0>)   tensor(4202.7805, device='cuda:0', dtype=torch.float64, grad_fn=<AddBackward0>)\n",
            "8000   tensor(4202.7805, device='cuda:0', dtype=torch.float64, grad_fn=<AddBackward0>)   tensor(4202.7805, device='cuda:0', dtype=torch.float64, grad_fn=<AddBackward0>)\n",
            "9000   tensor(4202.7805, device='cuda:0', dtype=torch.float64, grad_fn=<AddBackward0>)   tensor(4202.7805, device='cuda:0', dtype=torch.float64, grad_fn=<AddBackward0>)\n",
            "10000   tensor(4202.7805, device='cuda:0', dtype=torch.float64, grad_fn=<AddBackward0>)   tensor(4202.7805, device='cuda:0', dtype=torch.float64, grad_fn=<AddBackward0>)\n",
            "11000   tensor(4202.7805, device='cuda:0', dtype=torch.float64, grad_fn=<AddBackward0>)   tensor(4202.7805, device='cuda:0', dtype=torch.float64, grad_fn=<AddBackward0>)\n",
            "12000   tensor(4202.7805, device='cuda:0', dtype=torch.float64, grad_fn=<AddBackward0>)   tensor(4202.7805, device='cuda:0', dtype=torch.float64, grad_fn=<AddBackward0>)\n",
            "13000   tensor(4202.7805, device='cuda:0', dtype=torch.float64, grad_fn=<AddBackward0>)   tensor(4202.7805, device='cuda:0', dtype=torch.float64, grad_fn=<AddBackward0>)\n",
            "14000   tensor(4202.7805, device='cuda:0', dtype=torch.float64, grad_fn=<AddBackward0>)   tensor(4202.7805, device='cuda:0', dtype=torch.float64, grad_fn=<AddBackward0>)\n",
            "15000   tensor(4202.7805, device='cuda:0', dtype=torch.float64, grad_fn=<AddBackward0>)   tensor(4202.7805, device='cuda:0', dtype=torch.float64, grad_fn=<AddBackward0>)\n",
            "16000   tensor(4202.7805, device='cuda:0', dtype=torch.float64, grad_fn=<AddBackward0>)   tensor(4202.7805, device='cuda:0', dtype=torch.float64, grad_fn=<AddBackward0>)\n",
            "17000   tensor(4202.7805, device='cuda:0', dtype=torch.float64, grad_fn=<AddBackward0>)   tensor(4202.7805, device='cuda:0', dtype=torch.float64, grad_fn=<AddBackward0>)\n",
            "18000   tensor(4202.7805, device='cuda:0', dtype=torch.float64, grad_fn=<AddBackward0>)   tensor(4202.7805, device='cuda:0', dtype=torch.float64, grad_fn=<AddBackward0>)\n",
            "19000   tensor(4202.7805, device='cuda:0', dtype=torch.float64, grad_fn=<AddBackward0>)   tensor(4202.7805, device='cuda:0', dtype=torch.float64, grad_fn=<AddBackward0>)\n",
            "20000   tensor(4202.7805, device='cuda:0', dtype=torch.float64, grad_fn=<AddBackward0>)   tensor(4202.7805, device='cuda:0', dtype=torch.float64, grad_fn=<AddBackward0>)\n",
            "21000   tensor(4202.7805, device='cuda:0', dtype=torch.float64, grad_fn=<AddBackward0>)   tensor(4202.7805, device='cuda:0', dtype=torch.float64, grad_fn=<AddBackward0>)\n",
            "22000   tensor(4202.7805, device='cuda:0', dtype=torch.float64, grad_fn=<AddBackward0>)   tensor(4202.7805, device='cuda:0', dtype=torch.float64, grad_fn=<AddBackward0>)\n",
            "23000   tensor(4202.7805, device='cuda:0', dtype=torch.float64, grad_fn=<AddBackward0>)   tensor(4202.7805, device='cuda:0', dtype=torch.float64, grad_fn=<AddBackward0>)\n",
            "24000   tensor(4202.7805, device='cuda:0', dtype=torch.float64, grad_fn=<AddBackward0>)   tensor(4202.7805, device='cuda:0', dtype=torch.float64, grad_fn=<AddBackward0>)\n",
            "25000   tensor(4202.7805, device='cuda:0', dtype=torch.float64, grad_fn=<AddBackward0>)   tensor(4202.7805, device='cuda:0', dtype=torch.float64, grad_fn=<AddBackward0>)\n",
            "26000   tensor(4202.7805, device='cuda:0', dtype=torch.float64, grad_fn=<AddBackward0>)   tensor(4202.7805, device='cuda:0', dtype=torch.float64, grad_fn=<AddBackward0>)\n",
            "27000   tensor(4202.7805, device='cuda:0', dtype=torch.float64, grad_fn=<AddBackward0>)   tensor(4202.7805, device='cuda:0', dtype=torch.float64, grad_fn=<AddBackward0>)\n",
            "28000   tensor(4202.7805, device='cuda:0', dtype=torch.float64, grad_fn=<AddBackward0>)   tensor(4202.7805, device='cuda:0', dtype=torch.float64, grad_fn=<AddBackward0>)\n",
            "29000   tensor(4202.7805, device='cuda:0', dtype=torch.float64, grad_fn=<AddBackward0>)   tensor(4202.7805, device='cuda:0', dtype=torch.float64, grad_fn=<AddBackward0>)\n",
            "30000   tensor(4202.7805, device='cuda:0', dtype=torch.float64, grad_fn=<AddBackward0>)   tensor(4202.7805, device='cuda:0', dtype=torch.float64, grad_fn=<AddBackward0>)\n",
            "31000   tensor(4202.7805, device='cuda:0', dtype=torch.float64, grad_fn=<AddBackward0>)   tensor(4202.7805, device='cuda:0', dtype=torch.float64, grad_fn=<AddBackward0>)\n",
            "32000   tensor(4202.7805, device='cuda:0', dtype=torch.float64, grad_fn=<AddBackward0>)   tensor(4202.7805, device='cuda:0', dtype=torch.float64, grad_fn=<AddBackward0>)\n",
            "33000   tensor(4202.7805, device='cuda:0', dtype=torch.float64, grad_fn=<AddBackward0>)   tensor(4202.7805, device='cuda:0', dtype=torch.float64, grad_fn=<AddBackward0>)\n",
            "34000   tensor(4202.7805, device='cuda:0', dtype=torch.float64, grad_fn=<AddBackward0>)   tensor(4202.7805, device='cuda:0', dtype=torch.float64, grad_fn=<AddBackward0>)\n",
            "35000   tensor(4202.7805, device='cuda:0', dtype=torch.float64, grad_fn=<AddBackward0>)   tensor(4202.7805, device='cuda:0', dtype=torch.float64, grad_fn=<AddBackward0>)\n",
            "36000   tensor(4202.7805, device='cuda:0', dtype=torch.float64, grad_fn=<AddBackward0>)   tensor(4202.7805, device='cuda:0', dtype=torch.float64, grad_fn=<AddBackward0>)\n",
            "37000   tensor(4202.7805, device='cuda:0', dtype=torch.float64, grad_fn=<AddBackward0>)   tensor(4202.7805, device='cuda:0', dtype=torch.float64, grad_fn=<AddBackward0>)\n",
            "38000   tensor(4202.7805, device='cuda:0', dtype=torch.float64, grad_fn=<AddBackward0>)   tensor(4202.7805, device='cuda:0', dtype=torch.float64, grad_fn=<AddBackward0>)\n",
            "39000   tensor(4202.7805, device='cuda:0', dtype=torch.float64, grad_fn=<AddBackward0>)   tensor(4202.7805, device='cuda:0', dtype=torch.float64, grad_fn=<AddBackward0>)\n",
            "40000   tensor(4202.7805, device='cuda:0', dtype=torch.float64, grad_fn=<AddBackward0>)   tensor(4202.7805, device='cuda:0', dtype=torch.float64, grad_fn=<AddBackward0>)\n",
            "41000   tensor(4202.7805, device='cuda:0', dtype=torch.float64, grad_fn=<AddBackward0>)   tensor(4202.7805, device='cuda:0', dtype=torch.float64, grad_fn=<AddBackward0>)\n",
            "42000   tensor(4202.7805, device='cuda:0', dtype=torch.float64, grad_fn=<AddBackward0>)   tensor(4202.7805, device='cuda:0', dtype=torch.float64, grad_fn=<AddBackward0>)\n",
            "43000   tensor(4202.7805, device='cuda:0', dtype=torch.float64, grad_fn=<AddBackward0>)   tensor(4202.7805, device='cuda:0', dtype=torch.float64, grad_fn=<AddBackward0>)\n",
            "44000   tensor(4202.7805, device='cuda:0', dtype=torch.float64, grad_fn=<AddBackward0>)   tensor(4202.7805, device='cuda:0', dtype=torch.float64, grad_fn=<AddBackward0>)\n",
            "45000   tensor(4202.7805, device='cuda:0', dtype=torch.float64, grad_fn=<AddBackward0>)   tensor(4202.7805, device='cuda:0', dtype=torch.float64, grad_fn=<AddBackward0>)\n",
            "46000   tensor(4202.7805, device='cuda:0', dtype=torch.float64, grad_fn=<AddBackward0>)   tensor(4202.7805, device='cuda:0', dtype=torch.float64, grad_fn=<AddBackward0>)\n",
            "47000   tensor(4202.7805, device='cuda:0', dtype=torch.float64, grad_fn=<AddBackward0>)   tensor(4202.7805, device='cuda:0', dtype=torch.float64, grad_fn=<AddBackward0>)\n",
            "48000   tensor(4202.7805, device='cuda:0', dtype=torch.float64, grad_fn=<AddBackward0>)   tensor(4202.7805, device='cuda:0', dtype=torch.float64, grad_fn=<AddBackward0>)\n",
            "49000   tensor(4202.7805, device='cuda:0', dtype=torch.float64, grad_fn=<AddBackward0>)   tensor(4202.7805, device='cuda:0', dtype=torch.float64, grad_fn=<AddBackward0>)\n",
            "50000   tensor(4202.7805, device='cuda:0', dtype=torch.float64, grad_fn=<AddBackward0>)   tensor(4202.7805, device='cuda:0', dtype=torch.float64, grad_fn=<AddBackward0>)\n",
            "51000   tensor(4202.7805, device='cuda:0', dtype=torch.float64, grad_fn=<AddBackward0>)   tensor(4202.7805, device='cuda:0', dtype=torch.float64, grad_fn=<AddBackward0>)\n",
            "52000   tensor(4202.7805, device='cuda:0', dtype=torch.float64, grad_fn=<AddBackward0>)   tensor(4202.7805, device='cuda:0', dtype=torch.float64, grad_fn=<AddBackward0>)\n",
            "53000   tensor(4202.7805, device='cuda:0', dtype=torch.float64, grad_fn=<AddBackward0>)   tensor(4202.7805, device='cuda:0', dtype=torch.float64, grad_fn=<AddBackward0>)\n",
            "54000   tensor(4202.7805, device='cuda:0', dtype=torch.float64, grad_fn=<AddBackward0>)   tensor(4202.7805, device='cuda:0', dtype=torch.float64, grad_fn=<AddBackward0>)\n",
            "55000   tensor(4202.7805, device='cuda:0', dtype=torch.float64, grad_fn=<AddBackward0>)   tensor(4202.7805, device='cuda:0', dtype=torch.float64, grad_fn=<AddBackward0>)\n",
            "56000   tensor(4202.7805, device='cuda:0', dtype=torch.float64, grad_fn=<AddBackward0>)   tensor(4202.7805, device='cuda:0', dtype=torch.float64, grad_fn=<AddBackward0>)\n",
            "57000   tensor(4202.7805, device='cuda:0', dtype=torch.float64, grad_fn=<AddBackward0>)   tensor(4202.7805, device='cuda:0', dtype=torch.float64, grad_fn=<AddBackward0>)\n",
            "58000   tensor(4202.7805, device='cuda:0', dtype=torch.float64, grad_fn=<AddBackward0>)   tensor(4202.7805, device='cuda:0', dtype=torch.float64, grad_fn=<AddBackward0>)\n",
            "59000   tensor(4202.7805, device='cuda:0', dtype=torch.float64, grad_fn=<AddBackward0>)   tensor(4202.7805, device='cuda:0', dtype=torch.float64, grad_fn=<AddBackward0>)\n",
            "60000   tensor(4202.7805, device='cuda:0', dtype=torch.float64, grad_fn=<AddBackward0>)   tensor(4202.7805, device='cuda:0', dtype=torch.float64, grad_fn=<AddBackward0>)\n",
            "61000   tensor(4202.7805, device='cuda:0', dtype=torch.float64, grad_fn=<AddBackward0>)   tensor(4202.7805, device='cuda:0', dtype=torch.float64, grad_fn=<AddBackward0>)\n",
            "62000   tensor(4202.7805, device='cuda:0', dtype=torch.float64, grad_fn=<AddBackward0>)   tensor(4202.7805, device='cuda:0', dtype=torch.float64, grad_fn=<AddBackward0>)\n",
            "63000   tensor(4202.7805, device='cuda:0', dtype=torch.float64, grad_fn=<AddBackward0>)   tensor(4202.7805, device='cuda:0', dtype=torch.float64, grad_fn=<AddBackward0>)\n",
            "64000   tensor(4202.7805, device='cuda:0', dtype=torch.float64, grad_fn=<AddBackward0>)   tensor(4202.7805, device='cuda:0', dtype=torch.float64, grad_fn=<AddBackward0>)\n",
            "65000   tensor(4202.7805, device='cuda:0', dtype=torch.float64, grad_fn=<AddBackward0>)   tensor(4202.7805, device='cuda:0', dtype=torch.float64, grad_fn=<AddBackward0>)\n",
            "66000   tensor(4202.7805, device='cuda:0', dtype=torch.float64, grad_fn=<AddBackward0>)   tensor(4202.7805, device='cuda:0', dtype=torch.float64, grad_fn=<AddBackward0>)\n",
            "67000   tensor(4202.7805, device='cuda:0', dtype=torch.float64, grad_fn=<AddBackward0>)   tensor(4202.7805, device='cuda:0', dtype=torch.float64, grad_fn=<AddBackward0>)\n",
            "68000   tensor(4202.7805, device='cuda:0', dtype=torch.float64, grad_fn=<AddBackward0>)   tensor(4202.7805, device='cuda:0', dtype=torch.float64, grad_fn=<AddBackward0>)\n",
            "69000   tensor(4202.7805, device='cuda:0', dtype=torch.float64, grad_fn=<AddBackward0>)   tensor(4202.7805, device='cuda:0', dtype=torch.float64, grad_fn=<AddBackward0>)\n",
            "70000   tensor(4202.7805, device='cuda:0', dtype=torch.float64, grad_fn=<AddBackward0>)   tensor(4202.7805, device='cuda:0', dtype=torch.float64, grad_fn=<AddBackward0>)\n",
            "71000   tensor(4202.7805, device='cuda:0', dtype=torch.float64, grad_fn=<AddBackward0>)   tensor(4202.7805, device='cuda:0', dtype=torch.float64, grad_fn=<AddBackward0>)\n",
            "72000   tensor(4202.7805, device='cuda:0', dtype=torch.float64, grad_fn=<AddBackward0>)   tensor(4202.7805, device='cuda:0', dtype=torch.float64, grad_fn=<AddBackward0>)\n",
            "73000   tensor(4202.7805, device='cuda:0', dtype=torch.float64, grad_fn=<AddBackward0>)   tensor(4202.7805, device='cuda:0', dtype=torch.float64, grad_fn=<AddBackward0>)\n",
            "74000   tensor(4202.7805, device='cuda:0', dtype=torch.float64, grad_fn=<AddBackward0>)   tensor(4202.7805, device='cuda:0', dtype=torch.float64, grad_fn=<AddBackward0>)\n",
            "75000   tensor(4202.7805, device='cuda:0', dtype=torch.float64, grad_fn=<AddBackward0>)   tensor(4202.7805, device='cuda:0', dtype=torch.float64, grad_fn=<AddBackward0>)\n",
            "76000   tensor(4202.7805, device='cuda:0', dtype=torch.float64, grad_fn=<AddBackward0>)   tensor(4202.7805, device='cuda:0', dtype=torch.float64, grad_fn=<AddBackward0>)\n",
            "77000   tensor(4202.7805, device='cuda:0', dtype=torch.float64, grad_fn=<AddBackward0>)   tensor(4202.7805, device='cuda:0', dtype=torch.float64, grad_fn=<AddBackward0>)\n",
            "78000   tensor(4202.7805, device='cuda:0', dtype=torch.float64, grad_fn=<AddBackward0>)   tensor(4202.7805, device='cuda:0', dtype=torch.float64, grad_fn=<AddBackward0>)\n",
            "79000   tensor(4202.7805, device='cuda:0', dtype=torch.float64, grad_fn=<AddBackward0>)   tensor(4202.7805, device='cuda:0', dtype=torch.float64, grad_fn=<AddBackward0>)\n",
            "80000   tensor(4202.7805, device='cuda:0', dtype=torch.float64, grad_fn=<AddBackward0>)   tensor(4202.7805, device='cuda:0', dtype=torch.float64, grad_fn=<AddBackward0>)\n",
            "81000   tensor(4202.7805, device='cuda:0', dtype=torch.float64, grad_fn=<AddBackward0>)   tensor(4202.7805, device='cuda:0', dtype=torch.float64, grad_fn=<AddBackward0>)\n",
            "82000   tensor(4202.7805, device='cuda:0', dtype=torch.float64, grad_fn=<AddBackward0>)   tensor(4202.7805, device='cuda:0', dtype=torch.float64, grad_fn=<AddBackward0>)\n",
            "83000   tensor(4202.7805, device='cuda:0', dtype=torch.float64, grad_fn=<AddBackward0>)   tensor(4202.7805, device='cuda:0', dtype=torch.float64, grad_fn=<AddBackward0>)\n",
            "84000   tensor(4202.7805, device='cuda:0', dtype=torch.float64, grad_fn=<AddBackward0>)   tensor(4202.7805, device='cuda:0', dtype=torch.float64, grad_fn=<AddBackward0>)\n",
            "85000   tensor(4202.7805, device='cuda:0', dtype=torch.float64, grad_fn=<AddBackward0>)   tensor(4202.7805, device='cuda:0', dtype=torch.float64, grad_fn=<AddBackward0>)\n",
            "86000   tensor(4202.7805, device='cuda:0', dtype=torch.float64, grad_fn=<AddBackward0>)   tensor(4202.7805, device='cuda:0', dtype=torch.float64, grad_fn=<AddBackward0>)\n",
            "87000   tensor(4202.7805, device='cuda:0', dtype=torch.float64, grad_fn=<AddBackward0>)   tensor(4202.7805, device='cuda:0', dtype=torch.float64, grad_fn=<AddBackward0>)\n",
            "88000   tensor(4202.7805, device='cuda:0', dtype=torch.float64, grad_fn=<AddBackward0>)   tensor(4202.7805, device='cuda:0', dtype=torch.float64, grad_fn=<AddBackward0>)\n",
            "89000   tensor(4202.7805, device='cuda:0', dtype=torch.float64, grad_fn=<AddBackward0>)   tensor(4202.7805, device='cuda:0', dtype=torch.float64, grad_fn=<AddBackward0>)\n",
            "90000   tensor(4202.7805, device='cuda:0', dtype=torch.float64, grad_fn=<AddBackward0>)   tensor(4202.7805, device='cuda:0', dtype=torch.float64, grad_fn=<AddBackward0>)\n",
            "91000   tensor(4202.7805, device='cuda:0', dtype=torch.float64, grad_fn=<AddBackward0>)   tensor(4202.7805, device='cuda:0', dtype=torch.float64, grad_fn=<AddBackward0>)\n",
            "92000   tensor(4202.7805, device='cuda:0', dtype=torch.float64, grad_fn=<AddBackward0>)   tensor(4202.7805, device='cuda:0', dtype=torch.float64, grad_fn=<AddBackward0>)\n",
            "93000   tensor(4202.7805, device='cuda:0', dtype=torch.float64, grad_fn=<AddBackward0>)   tensor(4202.7805, device='cuda:0', dtype=torch.float64, grad_fn=<AddBackward0>)\n",
            "94000   tensor(4202.7805, device='cuda:0', dtype=torch.float64, grad_fn=<AddBackward0>)   tensor(4202.7805, device='cuda:0', dtype=torch.float64, grad_fn=<AddBackward0>)\n",
            "95000   tensor(4202.7805, device='cuda:0', dtype=torch.float64, grad_fn=<AddBackward0>)   tensor(4202.7805, device='cuda:0', dtype=torch.float64, grad_fn=<AddBackward0>)\n",
            "96000   tensor(4202.7805, device='cuda:0', dtype=torch.float64, grad_fn=<AddBackward0>)   tensor(4202.7805, device='cuda:0', dtype=torch.float64, grad_fn=<AddBackward0>)\n",
            "97000   tensor(4202.7805, device='cuda:0', dtype=torch.float64, grad_fn=<AddBackward0>)   tensor(4202.7805, device='cuda:0', dtype=torch.float64, grad_fn=<AddBackward0>)\n",
            "98000   tensor(4202.7805, device='cuda:0', dtype=torch.float64, grad_fn=<AddBackward0>)   tensor(4202.7805, device='cuda:0', dtype=torch.float64, grad_fn=<AddBackward0>)\n",
            "99000   tensor(4202.7805, device='cuda:0', dtype=torch.float64, grad_fn=<AddBackward0>)   tensor(4202.7805, device='cuda:0', dtype=torch.float64, grad_fn=<AddBackward0>)\n"
          ]
        }
      ]
    },
    {
      "cell_type": "code",
      "source": [
        "kkt_loss"
      ],
      "metadata": {
        "id": "J_nXpRYJznyU",
        "colab": {
          "base_uri": "https://localhost:8080/"
        },
        "outputId": "a73f4be7-0136-47cc-8cb1-e2305d917b35"
      },
      "execution_count": 27,
      "outputs": [
        {
          "output_type": "execute_result",
          "data": {
            "text/plain": [
              "tensor(4202.7805, device='cuda:0', dtype=torch.float64, grad_fn=<AddBackward0>)"
            ]
          },
          "metadata": {},
          "execution_count": 27
        }
      ]
    },
    {
      "cell_type": "code",
      "source": [
        "x_recons = x_recons.cpu()\n",
        "y = y.cpu()\n",
        "plt.scatter(x_recons[:,0].detach().numpy(), x_recons[:,1].detach().numpy(), c=y, cmap='coolwarm')\n",
        "plt.show()"
      ],
      "metadata": {
        "id": "0Nzw7NuaodfB",
        "colab": {
          "base_uri": "https://localhost:8080/",
          "height": 430
        },
        "outputId": "d8bc4e43-017e-40f7-80a0-48f3189ea865"
      },
      "execution_count": 28,
      "outputs": [
        {
          "output_type": "display_data",
          "data": {
            "text/plain": [
              "<Figure size 640x480 with 1 Axes>"
            ],
            "image/png": "[encoded data removed]"
          },
          "metadata": {}
        }
      ]
    },
    {
      "cell_type": "code",
      "source": [
        "model.parameters"
      ],
      "metadata": {
        "id": "T7pUBnnJsHYP",
        "colab": {
          "base_uri": "https://localhost:8080/"
        },
        "outputId": "1dabecf7-ce7a-460d-bf94-9ff0bd23ea11"
      },
      "execution_count": 29,
      "outputs": [
        {
          "output_type": "execute_result",
          "data": {
            "text/plain": [
              "<bound method Module.parameters of ReconNet(\n",
              "  (layer1): Linear(in_features=2, out_features=1000, bias=True)\n",
              "  (relu1): ReLU()\n",
              "  (layer2): Linear(in_features=1000, out_features=1000, bias=True)\n",
              "  (relu2): ReLU()\n",
              "  (layer3): Linear(in_features=1000, out_features=1, bias=True)\n",
              "  (sigmoid): Sigmoid()\n",
              ")>"
            ]
          },
          "metadata": {},
          "execution_count": 29
        }
      ]
    },
    {
      "cell_type": "code",
      "source": [
        "y"
      ],
      "metadata": {
        "colab": {
          "base_uri": "https://localhost:8080/"
        },
        "id": "Vo-00GM4rJW1",
        "outputId": "3919a6a9-5e51-4cd6-c719-94cc7711f3c1"
      },
      "execution_count": 30,
      "outputs": [
        {
          "output_type": "execute_result",
          "data": {
            "text/plain": [
              "tensor([0., 0., 0., 0., 0., 0., 0., 0., 0., 0., 0., 0., 0., 0., 0., 0., 0., 0.,\n",
              "        0., 0., 0., 0., 0., 0., 0., 0., 0., 0., 0., 0., 0., 0., 0., 0., 0., 0.,\n",
              "        0., 0., 0., 0., 0., 0., 0., 0., 0., 0., 0., 0., 0., 0., 1., 1., 1., 1.,\n",
              "        1., 1., 1., 1., 1., 1., 1., 1., 1., 1., 1., 1., 1., 1., 1., 1., 1., 1.,\n",
              "        1., 1., 1., 1., 1., 1., 1., 1., 1., 1., 1., 1., 1., 1., 1., 1., 1., 1.,\n",
              "        1., 1., 1., 1., 1., 1., 1., 1., 1., 1.])"
            ]
          },
          "metadata": {},
          "execution_count": 30
        }
      ]
    },
    {
      "cell_type": "code",
      "source": [
        "l_updated=[]\n",
        "for i in range(len(l)):\n",
        "  if(l[i]<5):\n",
        "    l_updated.append(i)"
      ],
      "metadata": {
        "id": "2evIOH2mHbNr"
      },
      "execution_count": null,
      "outputs": []
    },
    {
      "cell_type": "code",
      "source": [
        "x_after_removing_lambda=[x_recons[i] for i in l_updated]"
      ],
      "metadata": {
        "id": "kEexwgb4GRAG"
      },
      "execution_count": null,
      "outputs": []
    },
    {
      "cell_type": "code",
      "source": [
        "y_updated=[y[i] for i in l_updated]"
      ],
      "metadata": {
        "id": "H8FKzlgDH7iB"
      },
      "execution_count": null,
      "outputs": []
    },
    {
      "cell_type": "code",
      "source": [
        "for i in x_after_removing_lambda:\n",
        "  i=torch.tensor(i)"
      ],
      "metadata": {
        "id": "MwcXyKoIIFTk"
      },
      "execution_count": null,
      "outputs": []
    },
    {
      "cell_type": "code",
      "source": [],
      "metadata": {
        "id": "J3PjxoA8JtQY"
      },
      "execution_count": null,
      "outputs": []
    },
    {
      "cell_type": "code",
      "source": [
        "for i in x_after_removing_lambda:\n",
        "  i=i.tolist()"
      ],
      "metadata": {
        "id": "o7e1VW39J_sp"
      },
      "execution_count": null,
      "outputs": []
    },
    {
      "cell_type": "code",
      "source": [
        "x_after_removing_lambda"
      ],
      "metadata": {
        "id": "dZjRczgPLgwY"
      },
      "execution_count": null,
      "outputs": []
    },
    {
      "cell_type": "code",
      "source": [
        "x_recons_list=x_recons.tolist()"
      ],
      "metadata": {
        "id": "V184_qWxHv0W"
      },
      "execution_count": null,
      "outputs": []
    },
    {
      "cell_type": "code",
      "source": [
        "x_recons_list=[x_recons_list[i] for i in l_updated]"
      ],
      "metadata": {
        "id": "YaZpP9xaHQtR"
      },
      "execution_count": null,
      "outputs": []
    },
    {
      "cell_type": "code",
      "source": [
        "x_recons_list"
      ],
      "metadata": {
        "id": "HB01bTn8L5PW"
      },
      "execution_count": null,
      "outputs": []
    },
    {
      "cell_type": "code",
      "source": [
        "y"
      ],
      "metadata": {
        "colab": {
          "base_uri": "https://localhost:8080/"
        },
        "id": "3idRntgFMYFO",
        "outputId": "e042553a-2233-4956-84f7-f6fba789b044"
      },
      "execution_count": null,
      "outputs": [
        {
          "output_type": "execute_result",
          "data": {
            "text/plain": [
              "tensor([0., 0., 0., 0., 0., 0., 0., 0., 0., 0., 0., 0., 0., 0., 0., 0., 0., 0.,\n",
              "        0., 0., 0., 0., 0., 0., 0., 0., 0., 0., 0., 0., 0., 0., 0., 0., 0., 0.,\n",
              "        0., 0., 0., 0., 0., 0., 0., 0., 0., 0., 0., 0., 0., 0., 1., 1., 1., 1.,\n",
              "        1., 1., 1., 1., 1., 1., 1., 1., 1., 1., 1., 1., 1., 1., 1., 1., 1., 1.,\n",
              "        1., 1., 1., 1., 1., 1., 1., 1., 1., 1., 1., 1., 1., 1., 1., 1., 1., 1.,\n",
              "        1., 1., 1., 1., 1., 1., 1., 1., 1., 1.])"
            ]
          },
          "metadata": {},
          "execution_count": 282
        }
      ]
    },
    {
      "cell_type": "code",
      "source": [
        "l_updated #contains indices of l with l<5"
      ],
      "metadata": {
        "id": "hDq78uGWM8vx"
      },
      "execution_count": null,
      "outputs": []
    },
    {
      "cell_type": "code",
      "source": [],
      "metadata": {
        "id": "57FqGBBZNIi4"
      },
      "execution_count": null,
      "outputs": []
    }
  ]
}