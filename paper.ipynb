{
  "nbformat": 4,
  "nbformat_minor": 0,
  "metadata": {
    "colab": {
      "provenance": []
    },
    "kernelspec": {
      "name": "python3",
      "display_name": "Python 3"
    },
    "language_info": {
      "name": "python"
    },
    "accelerator": "GPU",
    "gpuClass": "standard"
  },
  "cells": [
    {
      "cell_type": "code",
      "source": [
        "import warnings\n",
        "warnings.filterwarnings(\"ignore\")\n",
        "\n",
        "import numpy as np\n",
        "import pandas as pd\n",
        "\n",
        "import matplotlib.pyplot as plt\n",
        "import seaborn as sns\n",
        "%matplotlib inline\n",
        "from tqdm import tqdm\n",
        "import torch\n",
        "import torchvision\n",
        "from torchvision import datasets\n",
        "from torchvision import transforms\n",
        "from torch.autograd import Variable\n",
        "import torch.nn as nn\n",
        "from sklearn.metrics import classification_report,confusion_matrix\n",
        "import torch.nn.init as init\n",
        "import os\n",
        "import torch\n",
        "\n",
        "alpha1 = 1\n",
        "alpha2 = 5\n",
        "alpha3 = 1"
      ],
      "metadata": {
        "id": "4RJonoI0UE7x"
      },
      "execution_count": 195,
      "outputs": []
    },
    {
      "cell_type": "code",
      "source": [
        "device = ''\n",
        "if torch.cuda.is_available():\n",
        "    device = torch.device(\"cuda\")\n",
        "else:\n",
        "    device = torch.device('cpu')\n",
        "print(\"Using {}.\".format(device))"
      ],
      "metadata": {
        "id": "57twzupvoFcH",
        "colab": {
          "base_uri": "https://localhost:8080/"
        },
        "outputId": "5a8cd3d4-455c-4328-a0a8-6ca51a8331ec"
      },
      "execution_count": 196,
      "outputs": [
        {
          "output_type": "stream",
          "name": "stdout",
          "text": [
            "Using cuda.\n"
          ]
        }
      ]
    },
    {
      "cell_type": "code",
      "execution_count": 197,
      "metadata": {
        "id": "jTJgPlvclZoa",
        "colab": {
          "base_uri": "https://localhost:8080/"
        },
        "outputId": "c00b42c5-615d-4c90-ff0f-174c04d58373"
      },
      "outputs": [
        {
          "output_type": "stream",
          "name": "stdout",
          "text": [
            "Data:\n",
            " [[ 1.00000000e+00  0.00000000e+00]\n",
            " [ 9.45817242e-01  3.24699469e-01]\n",
            " [ 7.89140509e-01  6.14212713e-01]\n",
            " [ 5.46948158e-01  8.37166478e-01]\n",
            " [ 2.45485487e-01  9.69400266e-01]\n",
            " [-8.25793455e-02  9.96584493e-01]\n",
            " [-4.01695425e-01  9.15773327e-01]\n",
            " [-6.77281572e-01  7.35723911e-01]\n",
            " [-8.79473751e-01  4.75947393e-01]\n",
            " [-9.86361303e-01  1.64594590e-01]\n",
            " [-9.86361303e-01 -1.64594590e-01]\n",
            " [-8.79473751e-01 -4.75947393e-01]\n",
            " [-6.77281572e-01 -7.35723911e-01]\n",
            " [-4.01695425e-01 -9.15773327e-01]\n",
            " [-8.25793455e-02 -9.96584493e-01]\n",
            " [ 2.45485487e-01 -9.69400266e-01]\n",
            " [ 5.46948158e-01 -8.37166478e-01]\n",
            " [ 7.89140509e-01 -6.14212713e-01]\n",
            " [ 9.45817242e-01 -3.24699469e-01]\n",
            " [ 1.00000000e+00 -2.44929360e-16]]\n",
            "Labels:\n",
            " [1. 0. 1. 0. 1. 0. 1. 0. 1. 0. 1. 0. 1. 0. 1. 0. 1. 0. 1. 0.]\n"
          ]
        }
      ],
      "source": [
        "# Define radius and center of circle\n",
        "r = 1\n",
        "center = (0, 0)\n",
        "\n",
        "# Define angle range for circle\n",
        "theta = np.linspace(0, 2*np.pi, 20)\n",
        "\n",
        "# Generate coordinates for points on circle\n",
        "x = center[0] + r*np.cos(theta)\n",
        "y = center[1] + r*np.sin(theta)\n",
        "\n",
        "# Combine x and y into a single array\n",
        "data = np.stack((x, y), axis=1)\n",
        "\n",
        "# Assign alternating labels\n",
        "labels = np.ones(20)\n",
        "labels[1::2] = 0\n",
        "labels=np.asarray([float(i) for i in labels])\n",
        "print(\"Data:\\n\", data)\n",
        "print(\"Labels:\\n\", labels)\n"
      ]
    },
    {
      "cell_type": "code",
      "source": [
        "\n",
        "plt.scatter(data[:,0], data[:,1], c=labels, cmap='coolwarm')\n",
        "plt.show()"
      ],
      "metadata": {
        "id": "f0OgnVoZmspg",
        "colab": {
          "base_uri": "https://localhost:8080/",
          "height": 430
        },
        "outputId": "cf8cee6e-4c84-4f53-9e59-f8ea310fe342"
      },
      "execution_count": 198,
      "outputs": [
        {
          "output_type": "display_data",
          "data": {
            "text/plain": [
              "<Figure size 640x480 with 1 Axes>"
            ],
            "image/png": "[encoded data removed]"
          },
          "metadata": {}
        }
      ]
    },
    {
      "cell_type": "code",
      "source": [
        "class ReconNet(nn.Module):\n",
        "    def __init__(self):\n",
        "        super(ReconNet,self).__init__()\n",
        "        self.layer1 = nn.Linear(2,1000)\n",
        "        self.relu1 = nn.ReLU()\n",
        "        self.layer2 = nn.Linear(1000,1000)\n",
        "        self.relu2 = nn.ReLU()\n",
        "        self.layer3 = nn.Linear(1000,1)\n",
        "        self.sigmoid = nn.Sigmoid()\n",
        "        self.double()\n",
        "\n",
        "        init.constant_(self.layer2.bias, 0)\n",
        "        init.constant_(self.layer3.bias, 0)\n",
        "\n",
        "        init.normal_(self.layer1.weight, mean=0, std=0.0001)\n",
        "        init.kaiming_uniform_(self.layer1.weight)\n",
        "        init.kaiming_uniform_(self.layer2.weight)\n",
        "\n",
        "    def forward(self,x):\n",
        "        x = self.layer1(x)\n",
        "        x = self.relu1(x)\n",
        "        x = self.layer2(x)\n",
        "        x = self.relu2(x)\n",
        "        x = self.layer3(x)\n",
        "        x = self.sigmoid(x)\n",
        "        return x\n",
        "      \n"
      ],
      "metadata": {
        "id": "MIA0c8tYGBXV"
      },
      "execution_count": 199,
      "outputs": []
    },
    {
      "cell_type": "code",
      "source": [],
      "metadata": {
        "id": "5XblhJOenoDO"
      },
      "execution_count": 199,
      "outputs": []
    },
    {
      "cell_type": "code",
      "source": [
        "import torch\n",
        "from torch.utils.data import Dataset, DataLoader\n",
        "\n",
        "class MyDataset(Dataset):\n",
        "    def __init__(self, data, labels):\n",
        "        self.data = data\n",
        "        self.labels = labels\n",
        "        \n",
        "    def __len__(self):\n",
        "        return len(self.data)\n",
        "    \n",
        "    def __getitem__(self, idx):\n",
        "        return self.data[idx], self.labels[idx]"
      ],
      "metadata": {
        "id": "nQfoNfu-YgFv"
      },
      "execution_count": 200,
      "outputs": []
    },
    {
      "cell_type": "code",
      "source": [
        "dataset = MyDataset(data, labels)\n",
        "dataloader = DataLoader(dataset, batch_size=20,shuffle=True)"
      ],
      "metadata": {
        "id": "8XvzzP-PZAS6"
      },
      "execution_count": 201,
      "outputs": []
    },
    {
      "cell_type": "code",
      "source": [
        "for i in dataloader:\n",
        "    print(len(i[0]))\n",
        "#   output=model(i[0])\n",
        "  # print(output.squeeze(dim=0))\n",
        "  "
      ],
      "metadata": {
        "id": "VnhgWGHTZ72C",
        "colab": {
          "base_uri": "https://localhost:8080/"
        },
        "outputId": "1d0de960-52ba-4d57-85aa-e4232892bbd9"
      },
      "execution_count": 202,
      "outputs": [
        {
          "output_type": "stream",
          "name": "stdout",
          "text": [
            "20\n"
          ]
        }
      ]
    },
    {
      "cell_type": "code",
      "source": [
        "model=ReconNet().to(device)\n",
        "optimizer = torch.optim.SGD(model.parameters(),lr=0.01)\n",
        "criterion = nn.BCELoss()\n",
        " \n",
        "n_epochs=5000\n",
        "epochs=tqdm(range(n_epochs))\n",
        "training_loss_sgd=[]\n",
        "for epoch in epochs:\n",
        "  train_loss=[]\n",
        "  model.train()\n",
        "  for batch in dataloader:\n",
        "    optimizer.zero_grad()\n",
        "    images=batch[0].to(device)\n",
        "    label=batch[1].to(device)\n",
        "    output=model(images)\n",
        "    #print(output.dtype)\n",
        "    loss=nn.BCELoss()(output.squeeze(),label)\n",
        "    loss.backward()\n",
        "    optimizer.step()\n",
        "    train_loss.append(loss.item())\n",
        "  loss_now=np.mean(train_loss)\n",
        "  training_loss_sgd.append(loss_now)\n",
        "  epochs.set_postfix({'loss':loss_now}) \n"
      ],
      "metadata": {
        "id": "TDcwqrl2nqM7",
        "colab": {
          "base_uri": "https://localhost:8080/"
        },
        "outputId": "ebab86b9-71fa-4a60-f60e-1d375b212a4e"
      },
      "execution_count": 203,
      "outputs": [
        {
          "output_type": "stream",
          "name": "stderr",
          "text": [
            "100%|██████████| 5000/5000 [00:25<00:00, 192.83it/s, loss=0.0889]\n"
          ]
        }
      ]
    },
    {
      "cell_type": "code",
      "source": [
        "weights_1 = model.layer1.weight.data\n",
        "weights_2 = model.layer2.weight.data\n",
        "weights_3 = model.layer3.weight.data\n",
        "# print(weights_1.shape)\n",
        "# print(weights_2.shape)\n",
        "# print(weights_3.shape)"
      ],
      "metadata": {
        "id": "7QxXlNvnZJyb"
      },
      "execution_count": 204,
      "outputs": []
    },
    {
      "cell_type": "code",
      "source": [
        "m = 100"
      ],
      "metadata": {
        "id": "1GOQtkX2p0OD"
      },
      "execution_count": 205,
      "outputs": []
    },
    {
      "cell_type": "code",
      "source": [
        "x_recons = torch.randn(m, 2,dtype=torch.float64) #creating random x \n",
        "lambda_i=torch.rand(m)#creating random lamdas for respective x\n",
        "optim_x_recons = torch.optim.SGD([x_recons], lr=0.1, momentum=0.9) #making it optimising variable\n",
        "optim_lambda_i=torch.optim.SGD([lambda_i],lr=0.1,momentum=0.9) #making it optimising variable"
      ],
      "metadata": {
        "id": "qTenqv7Ho-G3"
      },
      "execution_count": 206,
      "outputs": []
    },
    {
      "cell_type": "markdown",
      "source": [],
      "metadata": {
        "id": "F3JqHa2h6qfc"
      }
    },
    {
      "cell_type": "code",
      "source": [
        "x_recons.requires_grad_(True)\n",
        "lambda_i.requires_grad_(True)\n",
        "x_recons.dtype"
      ],
      "metadata": {
        "colab": {
          "base_uri": "https://localhost:8080/"
        },
        "id": "KIoidvL50ZtV",
        "outputId": "1cb062c7-2ce5-4c1e-a64c-3060cf5d353e"
      },
      "execution_count": 207,
      "outputs": [
        {
          "output_type": "execute_result",
          "data": {
            "text/plain": [
              "torch.float64"
            ]
          },
          "metadata": {},
          "execution_count": 207
        }
      ]
    },
    {
      "cell_type": "code",
      "source": [
        "x_recons = x_recons.to(device)\n",
        "values=model(x_recons)\n",
        "values = values.to(device)"
      ],
      "metadata": {
        "id": "cSbsqxSYC7lq"
      },
      "execution_count": 208,
      "outputs": []
    },
    {
      "cell_type": "code",
      "source": [
        "values=values.reshape(-1)"
      ],
      "metadata": {
        "id": "MgOvl10OC-8K"
      },
      "execution_count": 209,
      "outputs": []
    },
    {
      "cell_type": "code",
      "source": [
        "x_recons #before\n"
      ],
      "metadata": {
        "colab": {
          "base_uri": "https://localhost:8080/"
        },
        "id": "34P72io5P-Rh",
        "outputId": "f6c673f9-8bef-4a30-f497-e8c6872e1426"
      },
      "execution_count": 210,
      "outputs": [
        {
          "output_type": "execute_result",
          "data": {
            "text/plain": [
              "tensor([[-1.0544,  0.0059],\n",
              "        [ 0.0486,  1.0885],\n",
              "        [-0.7069, -1.1570],\n",
              "        [ 0.4337, -0.0985],\n",
              "        [-0.1573, -1.4459],\n",
              "        [ 0.6324,  0.2079],\n",
              "        [ 0.3006, -0.3343],\n",
              "        [-1.2759, -0.2327],\n",
              "        [ 1.0760, -2.6456],\n",
              "        [-0.2940, -2.2260],\n",
              "        [ 0.7508,  2.3086],\n",
              "        [-0.6924, -0.3486],\n",
              "        [ 0.1524, -1.1125],\n",
              "        [-0.4417, -0.9843],\n",
              "        [ 1.2082,  0.1738],\n",
              "        [-0.4775,  1.7999],\n",
              "        [ 0.9695, -0.4960],\n",
              "        [-0.0703, -0.4256],\n",
              "        [-1.8518,  0.1170],\n",
              "        [-0.5283,  1.6681],\n",
              "        [ 1.5879,  2.0105],\n",
              "        [ 0.5847,  0.8186],\n",
              "        [-1.5498, -1.1236],\n",
              "        [ 2.4857, -0.9656],\n",
              "        [-0.3861,  0.3972],\n",
              "        [-0.3107,  0.7041],\n",
              "        [ 1.5159, -1.7549],\n",
              "        [-0.2863, -1.2288],\n",
              "        [ 2.7613,  0.3773],\n",
              "        [ 0.8327, -0.0839],\n",
              "        [-1.0424,  0.8920],\n",
              "        [-0.3385,  0.9676],\n",
              "        [-0.2169,  0.4666],\n",
              "        [-1.3176, -0.8997],\n",
              "        [-1.8722, -1.4665],\n",
              "        [ 1.8098,  0.6391],\n",
              "        [ 0.0735,  1.2873],\n",
              "        [-1.7575,  0.3562],\n",
              "        [ 0.1110,  0.4252],\n",
              "        [-2.2596,  1.6013],\n",
              "        [ 0.0611,  0.0210],\n",
              "        [-0.0506, -0.9172],\n",
              "        [-0.5833,  0.6220],\n",
              "        [ 0.0651, -0.5537],\n",
              "        [ 0.8032, -0.6488],\n",
              "        [-0.2964, -1.6941],\n",
              "        [-0.1987,  1.9977],\n",
              "        [ 1.7727, -1.7390],\n",
              "        [ 0.8673,  0.6391],\n",
              "        [-0.1444, -0.5355],\n",
              "        [ 1.2810,  0.5794],\n",
              "        [-1.7463,  1.0253],\n",
              "        [ 1.2085, -1.0533],\n",
              "        [ 0.0732,  1.1048],\n",
              "        [ 0.2270,  2.4833],\n",
              "        [-0.4160, -1.6675],\n",
              "        [-0.6442, -0.7516],\n",
              "        [ 0.8788, -0.6876],\n",
              "        [ 1.5602, -1.0753],\n",
              "        [-0.6537,  0.5795],\n",
              "        [-1.4083,  0.7602],\n",
              "        [ 1.7151, -1.2501],\n",
              "        [-0.7105, -0.3291],\n",
              "        [ 0.2586, -0.1537],\n",
              "        [ 0.2483,  0.6787],\n",
              "        [-0.0212,  0.4525],\n",
              "        [ 0.1280, -0.4927],\n",
              "        [-0.4001,  0.6608],\n",
              "        [ 1.2166, -0.3880],\n",
              "        [ 1.4167,  0.4496],\n",
              "        [ 1.5054, -1.5862],\n",
              "        [-0.2145,  0.6565],\n",
              "        [-0.1309,  0.1402],\n",
              "        [ 1.8659,  0.3776],\n",
              "        [-0.5746, -0.8637],\n",
              "        [ 0.4555, -0.1375],\n",
              "        [-1.4986, -0.6953],\n",
              "        [-0.7415,  1.1092],\n",
              "        [ 1.0405, -0.0413],\n",
              "        [ 0.8671, -0.0729],\n",
              "        [ 0.1075, -1.1495],\n",
              "        [-0.9968, -0.7843],\n",
              "        [-0.7931, -0.4417],\n",
              "        [ 0.3773,  0.9732],\n",
              "        [ 0.3068, -0.0966],\n",
              "        [-0.3022, -0.9178],\n",
              "        [ 1.0588, -0.5213],\n",
              "        [-1.6358, -1.4781],\n",
              "        [-0.6292, -0.5516],\n",
              "        [-0.1549,  1.7378],\n",
              "        [ 0.3589, -1.3039],\n",
              "        [-2.0491, -1.2355],\n",
              "        [-2.3338,  1.3326],\n",
              "        [ 0.1916, -0.7666],\n",
              "        [ 0.4947,  0.0131],\n",
              "        [-0.1968,  0.6369],\n",
              "        [ 1.3229, -1.2126],\n",
              "        [ 0.9958,  2.7116],\n",
              "        [-0.2251, -0.3096],\n",
              "        [ 1.1717,  1.1543]], device='cuda:0', dtype=torch.float64,\n",
              "       grad_fn=<ToCopyBackward0>)"
            ]
          },
          "metadata": {},
          "execution_count": 210
        }
      ]
    },
    {
      "cell_type": "code",
      "source": [
        "print(lambda_i.shape,y.shape,values.shape)"
      ],
      "metadata": {
        "colab": {
          "base_uri": "https://localhost:8080/"
        },
        "id": "pt9dcOBNSyGP",
        "outputId": "c4a7292c-66d8-4ab3-dad7-a16a44728a5b"
      },
      "execution_count": 211,
      "outputs": [
        {
          "output_type": "stream",
          "name": "stdout",
          "text": [
            "torch.Size([100]) (20,) torch.Size([100])\n"
          ]
        }
      ]
    },
    {
      "cell_type": "code",
      "source": [
        "lambda_i.dim()"
      ],
      "metadata": {
        "colab": {
          "base_uri": "https://localhost:8080/"
        },
        "id": "HU75yXoGSD_s",
        "outputId": "121637fb-3227-4829-cb41-708a0154516f"
      },
      "execution_count": 212,
      "outputs": [
        {
          "output_type": "execute_result",
          "data": {
            "text/plain": [
              "1"
            ]
          },
          "metadata": {},
          "execution_count": 212
        }
      ]
    },
    {
      "cell_type": "code",
      "source": [
        "y = torch.ones(100)\n",
        "y[:50] =0"
      ],
      "metadata": {
        "id": "WDkugyYHJEiy"
      },
      "execution_count": 213,
      "outputs": []
    },
    {
      "cell_type": "code",
      "source": [
        "import itertools\n",
        "def get_kkt_loss(values, lambda_i, y, model):\n",
        "    lambda_i = lambda_i.squeeze()\n",
        "    assert values.dim() == 1\n",
        "    assert lambda_i.dim() == 1\n",
        "    assert y.dim() == 1\n",
        "    assert values.shape == lambda_i.shape == y.shape\n",
        "\n",
        "    output = values * lambda_i * y\n",
        "    # output = values \n",
        "    mult = lambda_i * y\n",
        "    params = model.parameters()\n",
        "    grad = torch.autograd.grad(\n",
        "        outputs=output,\n",
        "        inputs=model.parameters(),\n",
        "        grad_outputs=torch.ones_like(mult, requires_grad=False, device=output.device).div(m),\n",
        "        create_graph=True,\n",
        "        retain_graph=True,\n",
        "    )\n",
        "    kkt_loss = 0\n",
        "    length = len(list(params))\n",
        "\n",
        "    # print(length)\n",
        "    # print(type(list(params)))\n",
        "    # print(len(grad))\n",
        "    for i, (p, grad) in enumerate(zip(model.parameters(), grad)):\n",
        "        assert p.shape == grad.shape\n",
        "        l = (p.detach().data - grad).pow(2).sum()\n",
        "        kkt_loss += l\n",
        "    return kkt_loss"
      ],
      "metadata": {
        "id": "MUgMzumwDoHy"
      },
      "execution_count": 214,
      "outputs": []
    },
    {
      "cell_type": "code",
      "source": [
        "lambda_i = lambda_i.to(device)\n",
        "y = y.to(device)\n",
        "kkt_loss=get_kkt_loss(values,lambda_i,y,model)\n",
        "print(type(lambda_i))\n",
        "# print(kkt_loss)\n",
        "# print(values.dim())\n",
        "# print(lambda_i[0].shape)\n",
        "# print(y.dim())\n",
        "# print(values)"
      ],
      "metadata": {
        "id": "17jh4uxSPxBG",
        "colab": {
          "base_uri": "https://localhost:8080/"
        },
        "outputId": "b2542496-156d-4056-8a66-c6e0718d029f"
      },
      "execution_count": 215,
      "outputs": [
        {
          "output_type": "stream",
          "name": "stdout",
          "text": [
            "<class 'torch.Tensor'>\n"
          ]
        }
      ]
    },
    {
      "cell_type": "code",
      "source": [
        "kkt_loss = get_kkt_loss(values,lambda_i,y,model)\n",
        "print(kkt_loss)"
      ],
      "metadata": {
        "colab": {
          "base_uri": "https://localhost:8080/"
        },
        "id": "qVHKz_qxP1K9",
        "outputId": "5b10013f-feec-4a82-e607-58075c57f17f"
      },
      "execution_count": 216,
      "outputs": [
        {
          "output_type": "stream",
          "name": "stdout",
          "text": [
            "tensor(4242.3464, device='cuda:0', dtype=torch.float64, grad_fn=<AddBackward0>)\n"
          ]
        }
      ]
    },
    {
      "cell_type": "code",
      "source": [
        "def get_verify_loss(x, l):\n",
        "    loss_verify = 0\n",
        "    loss_verify += 1 * (x - 1).relu().pow(2).sum()\n",
        "    loss_verify += 1 * (-1 - x).relu().pow(2).sum()\n",
        "    loss_verify += 5 * (-l + 0.4983026413803425).relu().pow(2).sum()\n",
        "    return loss_verify"
      ],
      "metadata": {
        "id": "ANB0t9rATTl3"
      },
      "execution_count": 217,
      "outputs": []
    },
    {
      "cell_type": "code",
      "source": [
        "def getLambdaLoss(lambda_i):\n",
        "    temp = list(lambda_i)\n",
        "    loss_lambda = 0\n",
        "    for l in lambda_i:\n",
        "        loss_lambda += max(-1 * l,0)\n",
        "    return loss_lambda\n",
        "\n",
        "def getPriorLoss():\n",
        "    return 0"
      ],
      "metadata": {
        "id": "HJZ45WUgXGCl"
      },
      "execution_count": 218,
      "outputs": []
    },
    {
      "cell_type": "code",
      "source": [
        "loss_verify=get_verify_loss(x_recons,lambda_i)\n",
        "loss_lambda = getLambdaLoss(lambda_i)\n",
        "print(loss_lambda)"
      ],
      "metadata": {
        "id": "p69FrcJFm7pk",
        "colab": {
          "base_uri": "https://localhost:8080/"
        },
        "outputId": "13706615-0c44-4e8b-ccdb-0f8810f86768"
      },
      "execution_count": 219,
      "outputs": [
        {
          "output_type": "stream",
          "name": "stdout",
          "text": [
            "0\n"
          ]
        }
      ]
    },
    {
      "cell_type": "code",
      "source": [
        "for epoch in range(5000):\n",
        "        values = model(x_recons).squeeze()\n",
        "        kkt_loss, loss_verify,priorloss =get_kkt_loss(values,lambda_i,y,model),get_verify_loss(x_recons,lambda_i),getPriorLoss()\n",
        "        # loss=kkt_loss+loss_verify\n",
        "        lambda_loss = getLambdaLoss(lambda_i)\n",
        "        # loss = (alpha1 * kkt_loss) + (alpha2 * lambda_loss) + (alpha3 * priorloss)\n",
        "        # loss = (alpha1 * kkt_loss) + (alpha2 * loss_verify) + (alpha3 * priorloss)\n",
        "        loss = kkt_loss\n",
        "        if np.isnan(kkt_loss.item()):\n",
        "            raise ValueError('Optimizer diverged during extraction')\n",
        "        optim_x_recons.zero_grad()\n",
        "        optim_lambda_i.zero_grad()\n",
        "        loss.backward()\n",
        "        optim_x_recons.step()\n",
        "        optim_lambda_i.step()\n",
        "        if(epoch%1000==0):\n",
        "            print(epoch,\" \",kkt_loss,\" \",loss)\n",
        "        "
      ],
      "metadata": {
        "id": "qIpnDa68nFkf",
        "colab": {
          "base_uri": "https://localhost:8080/"
        },
        "outputId": "e80d9717-4793-439b-8b6e-442edbf2bdfe"
      },
      "execution_count": 220,
      "outputs": [
        {
          "output_type": "stream",
          "name": "stdout",
          "text": [
            "0   tensor(4242.3464, device='cuda:0', dtype=torch.float64, grad_fn=<AddBackward0>)   tensor(4242.3464, device='cuda:0', dtype=torch.float64, grad_fn=<AddBackward0>)\n",
            "1000   tensor(4242.3464, device='cuda:0', dtype=torch.float64, grad_fn=<AddBackward0>)   tensor(4242.3464, device='cuda:0', dtype=torch.float64, grad_fn=<AddBackward0>)\n",
            "2000   tensor(4242.3464, device='cuda:0', dtype=torch.float64, grad_fn=<AddBackward0>)   tensor(4242.3464, device='cuda:0', dtype=torch.float64, grad_fn=<AddBackward0>)\n",
            "3000   tensor(4242.3464, device='cuda:0', dtype=torch.float64, grad_fn=<AddBackward0>)   tensor(4242.3464, device='cuda:0', dtype=torch.float64, grad_fn=<AddBackward0>)\n",
            "4000   tensor(4242.3464, device='cuda:0', dtype=torch.float64, grad_fn=<AddBackward0>)   tensor(4242.3464, device='cuda:0', dtype=torch.float64, grad_fn=<AddBackward0>)\n"
          ]
        }
      ]
    },
    {
      "cell_type": "code",
      "source": [
        "kkt_loss"
      ],
      "metadata": {
        "id": "J_nXpRYJznyU",
        "colab": {
          "base_uri": "https://localhost:8080/"
        },
        "outputId": "47a34ffd-d037-4f5d-9ba2-18a1ae2e4d18"
      },
      "execution_count": 221,
      "outputs": [
        {
          "output_type": "execute_result",
          "data": {
            "text/plain": [
              "tensor(4242.3464, device='cuda:0', dtype=torch.float64, grad_fn=<AddBackward0>)"
            ]
          },
          "metadata": {},
          "execution_count": 221
        }
      ]
    },
    {
      "cell_type": "code",
      "source": [
        "x_recons = x_recons.cpu()\n",
        "y = y.cpu()\n",
        "plt.scatter(x_recons[:,0].detach().numpy(), x_recons[:,1].detach().numpy(), c=y, cmap='coolwarm')\n",
        "plt.show()"
      ],
      "metadata": {
        "id": "0Nzw7NuaodfB",
        "colab": {
          "base_uri": "https://localhost:8080/",
          "height": 430
        },
        "outputId": "0661dda0-67a5-489f-bd08-fb9f04eb43cc"
      },
      "execution_count": 222,
      "outputs": [
        {
          "output_type": "display_data",
          "data": {
            "text/plain": [
              "<Figure size 640x480 with 1 Axes>"
            ],
            "image/png": "[encoded data removed]"
          },
          "metadata": {}
        }
      ]
    },
    {
      "cell_type": "code",
      "source": [
        "model.parameters"
      ],
      "metadata": {
        "id": "T7pUBnnJsHYP",
        "colab": {
          "base_uri": "https://localhost:8080/"
        },
        "outputId": "1dabecf7-ce7a-460d-bf94-9ff0bd23ea11"
      },
      "execution_count": null,
      "outputs": [
        {
          "output_type": "execute_result",
          "data": {
            "text/plain": [
              "<bound method Module.parameters of ReconNet(\n",
              "  (layer1): Linear(in_features=2, out_features=1000, bias=True)\n",
              "  (relu1): ReLU()\n",
              "  (layer2): Linear(in_features=1000, out_features=1000, bias=True)\n",
              "  (relu2): ReLU()\n",
              "  (layer3): Linear(in_features=1000, out_features=1, bias=True)\n",
              "  (sigmoid): Sigmoid()\n",
              ")>"
            ]
          },
          "metadata": {},
          "execution_count": 29
        }
      ]
    },
    {
      "cell_type": "code",
      "source": [
        "y"
      ],
      "metadata": {
        "colab": {
          "base_uri": "https://localhost:8080/"
        },
        "id": "Vo-00GM4rJW1",
        "outputId": "3919a6a9-5e51-4cd6-c719-94cc7711f3c1"
      },
      "execution_count": null,
      "outputs": [
        {
          "output_type": "execute_result",
          "data": {
            "text/plain": [
              "tensor([0., 0., 0., 0., 0., 0., 0., 0., 0., 0., 0., 0., 0., 0., 0., 0., 0., 0.,\n",
              "        0., 0., 0., 0., 0., 0., 0., 0., 0., 0., 0., 0., 0., 0., 0., 0., 0., 0.,\n",
              "        0., 0., 0., 0., 0., 0., 0., 0., 0., 0., 0., 0., 0., 0., 1., 1., 1., 1.,\n",
              "        1., 1., 1., 1., 1., 1., 1., 1., 1., 1., 1., 1., 1., 1., 1., 1., 1., 1.,\n",
              "        1., 1., 1., 1., 1., 1., 1., 1., 1., 1., 1., 1., 1., 1., 1., 1., 1., 1.,\n",
              "        1., 1., 1., 1., 1., 1., 1., 1., 1., 1.])"
            ]
          },
          "metadata": {},
          "execution_count": 30
        }
      ]
    },
    {
      "cell_type": "code",
      "source": [
        "l_updated=[]\n",
        "for i in range(len(l)):\n",
        "  if(l[i]<5):\n",
        "    l_updated.append(i)"
      ],
      "metadata": {
        "id": "2evIOH2mHbNr"
      },
      "execution_count": null,
      "outputs": []
    },
    {
      "cell_type": "code",
      "source": [
        "x_after_removing_lambda=[x_recons[i] for i in l_updated]"
      ],
      "metadata": {
        "id": "kEexwgb4GRAG"
      },
      "execution_count": null,
      "outputs": []
    },
    {
      "cell_type": "code",
      "source": [
        "y_updated=[y[i] for i in l_updated]"
      ],
      "metadata": {
        "id": "H8FKzlgDH7iB"
      },
      "execution_count": null,
      "outputs": []
    },
    {
      "cell_type": "code",
      "source": [
        "for i in x_after_removing_lambda:\n",
        "  i=torch.tensor(i)"
      ],
      "metadata": {
        "id": "MwcXyKoIIFTk"
      },
      "execution_count": null,
      "outputs": []
    },
    {
      "cell_type": "code",
      "source": [],
      "metadata": {
        "id": "J3PjxoA8JtQY"
      },
      "execution_count": null,
      "outputs": []
    },
    {
      "cell_type": "code",
      "source": [
        "for i in x_after_removing_lambda:\n",
        "  i=i.tolist()"
      ],
      "metadata": {
        "id": "o7e1VW39J_sp"
      },
      "execution_count": null,
      "outputs": []
    },
    {
      "cell_type": "code",
      "source": [
        "x_after_removing_lambda"
      ],
      "metadata": {
        "id": "dZjRczgPLgwY"
      },
      "execution_count": null,
      "outputs": []
    },
    {
      "cell_type": "code",
      "source": [
        "x_recons_list=x_recons.tolist()"
      ],
      "metadata": {
        "id": "V184_qWxHv0W"
      },
      "execution_count": null,
      "outputs": []
    },
    {
      "cell_type": "code",
      "source": [
        "x_recons_list=[x_recons_list[i] for i in l_updated]"
      ],
      "metadata": {
        "id": "YaZpP9xaHQtR"
      },
      "execution_count": null,
      "outputs": []
    },
    {
      "cell_type": "code",
      "source": [
        "x_recons_list"
      ],
      "metadata": {
        "id": "HB01bTn8L5PW"
      },
      "execution_count": null,
      "outputs": []
    },
    {
      "cell_type": "code",
      "source": [
        "y"
      ],
      "metadata": {
        "colab": {
          "base_uri": "https://localhost:8080/"
        },
        "id": "3idRntgFMYFO",
        "outputId": "e042553a-2233-4956-84f7-f6fba789b044"
      },
      "execution_count": null,
      "outputs": [
        {
          "output_type": "execute_result",
          "data": {
            "text/plain": [
              "tensor([0., 0., 0., 0., 0., 0., 0., 0., 0., 0., 0., 0., 0., 0., 0., 0., 0., 0.,\n",
              "        0., 0., 0., 0., 0., 0., 0., 0., 0., 0., 0., 0., 0., 0., 0., 0., 0., 0.,\n",
              "        0., 0., 0., 0., 0., 0., 0., 0., 0., 0., 0., 0., 0., 0., 1., 1., 1., 1.,\n",
              "        1., 1., 1., 1., 1., 1., 1., 1., 1., 1., 1., 1., 1., 1., 1., 1., 1., 1.,\n",
              "        1., 1., 1., 1., 1., 1., 1., 1., 1., 1., 1., 1., 1., 1., 1., 1., 1., 1.,\n",
              "        1., 1., 1., 1., 1., 1., 1., 1., 1., 1.])"
            ]
          },
          "metadata": {},
          "execution_count": 282
        }
      ]
    },
    {
      "cell_type": "code",
      "source": [
        "l_updated #contains indices of l with l<5"
      ],
      "metadata": {
        "id": "hDq78uGWM8vx"
      },
      "execution_count": null,
      "outputs": []
    },
    {
      "cell_type": "code",
      "source": [],
      "metadata": {
        "id": "57FqGBBZNIi4"
      },
      "execution_count": null,
      "outputs": []
    }
  ]
}