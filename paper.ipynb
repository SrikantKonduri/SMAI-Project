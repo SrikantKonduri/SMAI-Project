{
  "nbformat": 4,
  "nbformat_minor": 0,
  "metadata": {
    "colab": {
      "provenance": []
    },
    "kernelspec": {
      "name": "python3",
      "display_name": "Python 3"
    },
    "language_info": {
      "name": "python"
    },
    "accelerator": "GPU",
    "gpuClass": "standard"
  },
  "cells": [
    {
      "cell_type": "code",
      "source": [
        "import warnings\n",
        "warnings.filterwarnings(\"ignore\")\n",
        "\n",
        "import numpy as np\n",
        "import pandas as pd\n",
        "\n",
        "import matplotlib.pyplot as plt\n",
        "import seaborn as sns\n",
        "%matplotlib inline\n",
        "from tqdm import tqdm\n",
        "import torch\n",
        "import torchvision\n",
        "from torchvision import datasets\n",
        "from torchvision import transforms\n",
        "from torch.autograd import Variable\n",
        "import torch.nn as nn\n",
        "from sklearn.metrics import classification_report,confusion_matrix\n",
        "import torch.nn.init as init\n",
        "import os\n",
        "import torch\n"
      ],
      "metadata": {
        "id": "4RJonoI0UE7x"
      },
      "execution_count": 212,
      "outputs": []
    },
    {
      "cell_type": "code",
      "source": [
        "device = ''\n",
        "if torch.cuda.is_available():\n",
        "    device = torch.device(\"cuda\")\n",
        "else:\n",
        "    device = torch.device('cpu')\n",
        "print(\"Using {}.\".format(device))"
      ],
      "metadata": {
        "id": "57twzupvoFcH",
        "colab": {
          "base_uri": "https://localhost:8080/"
        },
        "outputId": "973e4f95-bc29-4e6e-ecc9-8cf24443ec8e"
      },
      "execution_count": 213,
      "outputs": [
        {
          "output_type": "stream",
          "name": "stdout",
          "text": [
            "Using cuda.\n"
          ]
        }
      ]
    },
    {
      "cell_type": "code",
      "execution_count": 214,
      "metadata": {
        "id": "jTJgPlvclZoa",
        "colab": {
          "base_uri": "https://localhost:8080/"
        },
        "outputId": "e5ed994b-a945-4d8f-8c21-cc379aff7657"
      },
      "outputs": [
        {
          "output_type": "stream",
          "name": "stdout",
          "text": [
            "Data:\n",
            " [[ 1.00000000e+00  0.00000000e+00]\n",
            " [ 9.45817242e-01  3.24699469e-01]\n",
            " [ 7.89140509e-01  6.14212713e-01]\n",
            " [ 5.46948158e-01  8.37166478e-01]\n",
            " [ 2.45485487e-01  9.69400266e-01]\n",
            " [-8.25793455e-02  9.96584493e-01]\n",
            " [-4.01695425e-01  9.15773327e-01]\n",
            " [-6.77281572e-01  7.35723911e-01]\n",
            " [-8.79473751e-01  4.75947393e-01]\n",
            " [-9.86361303e-01  1.64594590e-01]\n",
            " [-9.86361303e-01 -1.64594590e-01]\n",
            " [-8.79473751e-01 -4.75947393e-01]\n",
            " [-6.77281572e-01 -7.35723911e-01]\n",
            " [-4.01695425e-01 -9.15773327e-01]\n",
            " [-8.25793455e-02 -9.96584493e-01]\n",
            " [ 2.45485487e-01 -9.69400266e-01]\n",
            " [ 5.46948158e-01 -8.37166478e-01]\n",
            " [ 7.89140509e-01 -6.14212713e-01]\n",
            " [ 9.45817242e-01 -3.24699469e-01]\n",
            " [ 1.00000000e+00 -2.44929360e-16]]\n",
            "Labels:\n",
            " [1. 0. 1. 0. 1. 0. 1. 0. 1. 0. 1. 0. 1. 0. 1. 0. 1. 0. 1. 0.]\n"
          ]
        }
      ],
      "source": [
        "# Define radius and center of circle\n",
        "r = 1\n",
        "center = (0, 0)\n",
        "\n",
        "# Define angle range for circle\n",
        "theta = np.linspace(0, 2*np.pi, 20)\n",
        "\n",
        "# Generate coordinates for points on circle\n",
        "x = center[0] + r*np.cos(theta)\n",
        "y = center[1] + r*np.sin(theta)\n",
        "\n",
        "# Combine x and y into a single array\n",
        "data = np.stack((x, y), axis=1)\n",
        "\n",
        "# Assign alternating labels\n",
        "labels = np.ones(20)\n",
        "labels[1::2] = 0\n",
        "labels=np.asarray([float(i) for i in labels])\n",
        "print(\"Data:\\n\", data)\n",
        "print(\"Labels:\\n\", labels)\n"
      ]
    },
    {
      "cell_type": "code",
      "source": [
        "\n",
        "plt.scatter(data[:,0], data[:,1], c=labels, cmap='coolwarm')\n",
        "plt.show()"
      ],
      "metadata": {
        "id": "f0OgnVoZmspg",
        "colab": {
          "base_uri": "https://localhost:8080/",
          "height": 430
        },
        "outputId": "d694b98f-6986-4d7c-bbec-4388e87702f6"
      },
      "execution_count": 215,
      "outputs": [
        {
          "output_type": "display_data",
          "data": {
            "text/plain": [
              "<Figure size 640x480 with 1 Axes>"
            ],
            "image/png": "[encoded data removed]"
          },
          "metadata": {}
        }
      ]
    },
    {
      "cell_type": "code",
      "source": [
        "class ReconNet(nn.Module):\n",
        "    def __init__(self):\n",
        "        super(ReconNet,self).__init__()\n",
        "        self.layer1 = nn.Linear(2,1000)\n",
        "        self.relu1 = nn.ReLU()\n",
        "        self.layer2 = nn.Linear(1000,1000)\n",
        "        self.relu2 = nn.ReLU()\n",
        "        self.layer3 = nn.Linear(1000,1)\n",
        "        self.sigmoid = nn.Sigmoid()\n",
        "        self.double()\n",
        "\n",
        "        init.constant_(self.layer2.bias, 0)\n",
        "        init.constant_(self.layer3.bias, 0)\n",
        "\n",
        "        init.normal_(self.layer1.weight, mean=0, std=0.0001)\n",
        "        init.kaiming_uniform_(self.layer1.weight)\n",
        "        init.kaiming_uniform_(self.layer2.weight)\n",
        "\n",
        "    def forward(self,x):\n",
        "        x = self.layer1(x)\n",
        "        x = self.relu1(x)\n",
        "        x = self.layer2(x)\n",
        "        x = self.relu2(x)\n",
        "        x = self.layer3(x)\n",
        "        x = self.sigmoid(x)\n",
        "        return x\n",
        "      \n"
      ],
      "metadata": {
        "id": "MIA0c8tYGBXV"
      },
      "execution_count": 216,
      "outputs": []
    },
    {
      "cell_type": "code",
      "source": [],
      "metadata": {
        "id": "5XblhJOenoDO"
      },
      "execution_count": 216,
      "outputs": []
    },
    {
      "cell_type": "code",
      "source": [
        "import torch\n",
        "from torch.utils.data import Dataset, DataLoader\n",
        "\n",
        "class MyDataset(Dataset):\n",
        "    def __init__(self, data, labels):\n",
        "        self.data = data\n",
        "        self.labels = labels\n",
        "        \n",
        "    def __len__(self):\n",
        "        return len(self.data)\n",
        "    \n",
        "    def __getitem__(self, idx):\n",
        "        return self.data[idx], self.labels[idx]"
      ],
      "metadata": {
        "id": "nQfoNfu-YgFv"
      },
      "execution_count": 217,
      "outputs": []
    },
    {
      "cell_type": "code",
      "source": [
        "dataset = MyDataset(data, labels)\n",
        "dataloader = DataLoader(dataset, batch_size=20,shuffle=True)"
      ],
      "metadata": {
        "id": "8XvzzP-PZAS6"
      },
      "execution_count": 218,
      "outputs": []
    },
    {
      "cell_type": "code",
      "source": [
        "for i in dataloader:\n",
        "    print(len(i[0]))\n",
        "#   output=model(i[0])\n",
        "  # print(output.squeeze(dim=0))\n",
        "  "
      ],
      "metadata": {
        "id": "VnhgWGHTZ72C",
        "colab": {
          "base_uri": "https://localhost:8080/"
        },
        "outputId": "1fa2cefc-7080-4afb-88a6-6d0434670e5f"
      },
      "execution_count": 219,
      "outputs": [
        {
          "output_type": "stream",
          "name": "stdout",
          "text": [
            "20\n"
          ]
        }
      ]
    },
    {
      "cell_type": "code",
      "source": [
        "model=ReconNet().to(device)\n",
        "optimizer = torch.optim.SGD(model.parameters(),lr=0.01)\n",
        "criterion = nn.BCELoss()\n",
        " \n",
        "n_epochs=100000\n",
        "epochs=tqdm(range(n_epochs))\n",
        "training_loss_sgd=[]\n",
        "for epoch in epochs:\n",
        "  train_loss=[]\n",
        "  model.train()\n",
        "  for batch in dataloader:\n",
        "    optimizer.zero_grad()\n",
        "    images=batch[0].to(device)\n",
        "    label=batch[1].to(device)\n",
        "    output=model(images)\n",
        "    #print(output.dtype)\n",
        "    loss=nn.BCELoss()(output.squeeze(),label)\n",
        "    loss.backward()\n",
        "    optimizer.step()\n",
        "    train_loss.append(loss.item())\n",
        "  loss_now=np.mean(train_loss)\n",
        "  training_loss_sgd.append(loss_now)\n",
        "  epochs.set_postfix({'loss':loss_now}) \n"
      ],
      "metadata": {
        "id": "TDcwqrl2nqM7",
        "colab": {
          "base_uri": "https://localhost:8080/"
        },
        "outputId": "e56e666e-91e1-4898-9cc8-277c8b7bc080"
      },
      "execution_count": 220,
      "outputs": [
        {
          "output_type": "stream",
          "name": "stderr",
          "text": [
            "100%|██████████| 100000/100000 [08:12<00:00, 203.19it/s, loss=0.0707]\n"
          ]
        }
      ]
    },
    {
      "cell_type": "code",
      "source": [
        "weights_1 = model.layer1.weight.data\n",
        "weights_2 = model.layer2.weight.data\n",
        "weights_3 = model.layer3.weight.data\n",
        "# print(weights_1.shape)\n",
        "# print(weights_2.shape)\n",
        "# print(weights_3.shape)"
      ],
      "metadata": {
        "id": "7QxXlNvnZJyb"
      },
      "execution_count": 221,
      "outputs": []
    },
    {
      "cell_type": "code",
      "source": [
        "m = 100"
      ],
      "metadata": {
        "id": "1GOQtkX2p0OD"
      },
      "execution_count": 222,
      "outputs": []
    },
    {
      "cell_type": "code",
      "source": [
        "x_recons = torch.randn(m, 2,dtype=torch.float64) #creating random x \n",
        "lambda_i=torch.rand(m)#creating random lamdas for respective x\n",
        "optim_x_recons = torch.optim.SGD([x_recons], lr=0.1, momentum=0.9) #making it optimising variable\n",
        "optim_lambda_i=torch.optim.SGD([lambda_i],lr=0.1,momentum=0.9) #making it optimising variable"
      ],
      "metadata": {
        "id": "qTenqv7Ho-G3"
      },
      "execution_count": 223,
      "outputs": []
    },
    {
      "cell_type": "code",
      "source": [
        "x_recons.requires_grad_(True)\n",
        "lambda_i.requires_grad_(True)\n",
        "x_recons.dtype"
      ],
      "metadata": {
        "colab": {
          "base_uri": "https://localhost:8080/"
        },
        "id": "KIoidvL50ZtV",
        "outputId": "112a72f0-95c5-45b1-8959-299959bc1d90"
      },
      "execution_count": 224,
      "outputs": [
        {
          "output_type": "execute_result",
          "data": {
            "text/plain": [
              "torch.float64"
            ]
          },
          "metadata": {},
          "execution_count": 224
        }
      ]
    },
    {
      "cell_type": "code",
      "source": [
        "x_recons = x_recons.to(device)\n",
        "values=model(x_recons)\n",
        "values = values.to(device)"
      ],
      "metadata": {
        "id": "cSbsqxSYC7lq"
      },
      "execution_count": 225,
      "outputs": []
    },
    {
      "cell_type": "code",
      "source": [
        "values=values.reshape(-1)"
      ],
      "metadata": {
        "id": "MgOvl10OC-8K"
      },
      "execution_count": 226,
      "outputs": []
    },
    {
      "cell_type": "code",
      "source": [
        "x_recons #before\n"
      ],
      "metadata": {
        "colab": {
          "base_uri": "https://localhost:8080/"
        },
        "id": "34P72io5P-Rh",
        "outputId": "62612e7b-d3c5-4dd4-dfda-fc7787ff8f7b"
      },
      "execution_count": 227,
      "outputs": [
        {
          "output_type": "execute_result",
          "data": {
            "text/plain": [
              "tensor([[ 0.4736,  1.0605],\n",
              "        [-0.2787, -1.3453],\n",
              "        [ 2.5500, -1.5918],\n",
              "        [ 0.7076, -1.1484],\n",
              "        [ 0.0443,  0.6214],\n",
              "        [-0.4447,  0.4575],\n",
              "        [-0.1662,  0.4534],\n",
              "        [ 0.6164, -0.6276],\n",
              "        [ 0.0730, -1.0349],\n",
              "        [ 0.9602,  0.8848],\n",
              "        [-0.3034, -0.7614],\n",
              "        [ 0.2631, -0.0526],\n",
              "        [-1.1266, -1.2855],\n",
              "        [ 1.1229, -0.5498],\n",
              "        [-0.4495,  0.9492],\n",
              "        [-1.2748, -0.1467],\n",
              "        [-0.1627,  0.5744],\n",
              "        [-0.1753, -0.0960],\n",
              "        [ 1.4424,  0.2339],\n",
              "        [ 0.0840,  1.3908],\n",
              "        [ 0.4083,  0.8790],\n",
              "        [ 1.5648, -1.0584],\n",
              "        [-0.1750,  0.4891],\n",
              "        [-0.0672,  0.0628],\n",
              "        [-0.1603, -0.1141],\n",
              "        [-1.9663,  0.5983],\n",
              "        [-1.4602, -0.9542],\n",
              "        [ 1.6130,  0.6586],\n",
              "        [ 1.2073, -1.1344],\n",
              "        [ 0.4090, -1.1439],\n",
              "        [-0.2824, -1.1488],\n",
              "        [-0.4286, -0.0443],\n",
              "        [-0.3712, -2.1605],\n",
              "        [-0.1239, -1.7191],\n",
              "        [-0.3615, -0.6217],\n",
              "        [ 0.6110,  1.4224],\n",
              "        [-1.8881, -0.9352],\n",
              "        [ 0.8915,  0.2979],\n",
              "        [ 0.6225, -0.7449],\n",
              "        [ 0.2308, -0.9918],\n",
              "        [ 0.3923, -0.5326],\n",
              "        [-0.1891,  0.1791],\n",
              "        [ 0.5283,  0.2930],\n",
              "        [ 0.6089, -0.6302],\n",
              "        [ 0.5700, -1.2626],\n",
              "        [-1.4958,  0.4343],\n",
              "        [ 1.2606,  1.0617],\n",
              "        [ 0.7970,  1.5703],\n",
              "        [ 1.5027,  0.4141],\n",
              "        [ 0.2454,  0.9307],\n",
              "        [-0.5331, -1.6588],\n",
              "        [ 0.5414, -0.8449],\n",
              "        [-2.1889,  0.0570],\n",
              "        [ 0.4726,  1.4351],\n",
              "        [ 1.0018, -0.9465],\n",
              "        [-1.6028, -0.6635],\n",
              "        [-0.5768,  0.4061],\n",
              "        [-0.7836,  0.4405],\n",
              "        [-0.2269, -1.6687],\n",
              "        [-2.4561,  0.7153],\n",
              "        [ 1.3028, -1.6570],\n",
              "        [ 0.1628, -0.7205],\n",
              "        [-0.7869,  1.3196],\n",
              "        [ 0.6361,  1.5168],\n",
              "        [-0.6765,  0.1193],\n",
              "        [ 2.1262,  1.0697],\n",
              "        [ 1.9135,  0.0281],\n",
              "        [-0.5201, -0.8296],\n",
              "        [ 0.2517,  0.8903],\n",
              "        [ 0.5980, -2.0874],\n",
              "        [ 0.6226,  0.0798],\n",
              "        [ 0.2862, -0.7906],\n",
              "        [ 0.4685,  0.4283],\n",
              "        [-0.6386,  0.6292],\n",
              "        [-0.4565,  0.2153],\n",
              "        [ 1.0371, -0.4361],\n",
              "        [ 0.0983,  0.2872],\n",
              "        [ 2.5013,  0.0246],\n",
              "        [ 1.2024,  0.2746],\n",
              "        [ 1.0294, -0.0374],\n",
              "        [-2.3303, -1.1173],\n",
              "        [ 0.2800,  0.1675],\n",
              "        [-0.3085, -0.9612],\n",
              "        [-0.0887,  0.4057],\n",
              "        [-1.7842, -0.7285],\n",
              "        [-2.2327,  0.3492],\n",
              "        [-0.0150, -1.6554],\n",
              "        [ 0.0527,  0.4896],\n",
              "        [-0.5707,  0.3148],\n",
              "        [-0.4425,  2.5148],\n",
              "        [-0.3623,  0.8386],\n",
              "        [ 0.4727, -0.6496],\n",
              "        [-0.4050, -0.3656],\n",
              "        [-0.7537, -1.2291],\n",
              "        [-1.8824, -3.1936],\n",
              "        [ 0.3930,  0.2780],\n",
              "        [-1.5876,  0.9254],\n",
              "        [-1.9736, -1.0226],\n",
              "        [ 0.9857,  0.0810],\n",
              "        [-0.0328,  0.2881]], device='cuda:0', dtype=torch.float64,\n",
              "       grad_fn=<ToCopyBackward0>)"
            ]
          },
          "metadata": {},
          "execution_count": 227
        }
      ]
    },
    {
      "cell_type": "code",
      "source": [
        "print(lambda_i.shape,y.shape,values.shape)"
      ],
      "metadata": {
        "colab": {
          "base_uri": "https://localhost:8080/"
        },
        "id": "pt9dcOBNSyGP",
        "outputId": "fb1f3121-3ad4-4f58-9cbb-6a7dccb335da"
      },
      "execution_count": 228,
      "outputs": [
        {
          "output_type": "stream",
          "name": "stdout",
          "text": [
            "torch.Size([100]) (20,) torch.Size([100])\n"
          ]
        }
      ]
    },
    {
      "cell_type": "code",
      "source": [
        "lambda_i.dim()"
      ],
      "metadata": {
        "colab": {
          "base_uri": "https://localhost:8080/"
        },
        "id": "HU75yXoGSD_s",
        "outputId": "819d4b44-af9a-4355-ac3d-a3ec2b6abbbb"
      },
      "execution_count": 229,
      "outputs": [
        {
          "output_type": "execute_result",
          "data": {
            "text/plain": [
              "1"
            ]
          },
          "metadata": {},
          "execution_count": 229
        }
      ]
    },
    {
      "cell_type": "code",
      "source": [
        "y = torch.ones(100)\n",
        "y[:50] =0"
      ],
      "metadata": {
        "id": "WDkugyYHJEiy"
      },
      "execution_count": 230,
      "outputs": []
    },
    {
      "cell_type": "code",
      "source": [
        "import itertools\n",
        "def get_kkt_loss(values, lambda_i, y, model):\n",
        "    lambda_i = lambda_i.squeeze()\n",
        "    assert values.dim() == 1\n",
        "    assert lambda_i.dim() == 1\n",
        "    assert y.dim() == 1\n",
        "    assert values.shape == lambda_i.shape == y.shape\n",
        "\n",
        "    output = values * lambda_i * y\n",
        "    # output = values \n",
        "    mult = lambda_i * y\n",
        "    params = model.parameters()\n",
        "    grad = torch.autograd.grad(\n",
        "        outputs=output,\n",
        "        inputs=model.parameters(),\n",
        "        grad_outputs=torch.ones_like(mult, requires_grad=False, device=output.device).div(m),\n",
        "        create_graph=True,\n",
        "        retain_graph=True,\n",
        "    )\n",
        "    kkt_loss = 0\n",
        "    length = len(list(params))\n",
        "\n",
        "    # print(length)\n",
        "    # print(type(list(params)))\n",
        "    # print(len(grad))\n",
        "    for i, (p, grad) in enumerate(zip(model.parameters(), grad)):\n",
        "        assert p.shape == grad.shape\n",
        "        l = (p.detach().data - grad).pow(2).sum()\n",
        "        kkt_loss += l\n",
        "    return kkt_loss"
      ],
      "metadata": {
        "id": "MUgMzumwDoHy"
      },
      "execution_count": 231,
      "outputs": []
    },
    {
      "cell_type": "code",
      "source": [
        "lambda_i = lambda_i.to(device)\n",
        "y = y.to(device)\n",
        "kkt_loss=get_kkt_loss(values,lambda_i,y,model)\n",
        "print(type(lambda_i))\n",
        "# print(kkt_loss)\n",
        "# print(values.dim())\n",
        "# print(lambda_i[0].shape)\n",
        "# print(y.dim())\n",
        "# print(values)"
      ],
      "metadata": {
        "id": "17jh4uxSPxBG",
        "colab": {
          "base_uri": "https://localhost:8080/"
        },
        "outputId": "b56ff5d4-075c-4cc9-95bb-cb81c0f22a07"
      },
      "execution_count": 232,
      "outputs": [
        {
          "output_type": "stream",
          "name": "stdout",
          "text": [
            "<class 'torch.Tensor'>\n"
          ]
        }
      ]
    },
    {
      "cell_type": "code",
      "source": [
        "kkt_loss = get_kkt_loss(values,lambda_i,y,model)\n",
        "print(kkt_loss)"
      ],
      "metadata": {
        "colab": {
          "base_uri": "https://localhost:8080/"
        },
        "id": "qVHKz_qxP1K9",
        "outputId": "0a262e6f-667c-46e0-e84b-62937f32aac2"
      },
      "execution_count": 233,
      "outputs": [
        {
          "output_type": "stream",
          "name": "stdout",
          "text": [
            "tensor(4325.0681, device='cuda:0', dtype=torch.float64, grad_fn=<AddBackward0>)\n"
          ]
        }
      ]
    },
    {
      "cell_type": "code",
      "source": [
        "def get_verify_loss(x, l):\n",
        "    loss_verify = 0\n",
        "    loss_verify += 1 * (x - 1).relu().pow(2).sum()\n",
        "    loss_verify += 1 * (-1 - x).relu().pow(2).sum()\n",
        "    loss_verify += 5 * (-l + 0.4983026413803425).relu().pow(2).sum()\n",
        "    return loss_verify"
      ],
      "metadata": {
        "id": "ANB0t9rATTl3"
      },
      "execution_count": 234,
      "outputs": []
    },
    {
      "cell_type": "code",
      "source": [
        "def getLambdaLoss(lambda_i):\n",
        "    temp = list(lambda_i)\n",
        "    loss_lambda = 0\n",
        "    for l in lambda_i:\n",
        "        loss_lambda += max(-1 * l,0)\n",
        "    return loss_lambda"
      ],
      "metadata": {
        "id": "HJZ45WUgXGCl"
      },
      "execution_count": 235,
      "outputs": []
    },
    {
      "cell_type": "code",
      "source": [
        "loss_verify=get_verify_loss(x_recons,lambda_i)\n",
        "loss_lambda = getLambdaLoss(lambda_i)\n",
        "print(loss_lambda)"
      ],
      "metadata": {
        "id": "p69FrcJFm7pk",
        "colab": {
          "base_uri": "https://localhost:8080/"
        },
        "outputId": "f812a0b0-69e9-4fcd-b0f9-ef2adf9cb749"
      },
      "execution_count": 236,
      "outputs": [
        {
          "output_type": "stream",
          "name": "stdout",
          "text": [
            "0\n"
          ]
        }
      ]
    },
    {
      "cell_type": "code",
      "source": [
        "for epoch in range(100000):\n",
        "        values = model(x_recons).squeeze()\n",
        "        kkt_loss, loss_verify =get_kkt_loss(values,lambda_i,y,model),get_verify_loss(x_recons,lambda_i)\n",
        "        # loss=kkt_loss+loss_verify\n",
        "        lambda_loss = getLambdaLoss(lambda_i)\n",
        "        loss=kkt_loss + lambda_loss\n",
        "        if np.isnan(kkt_loss.item()):\n",
        "            raise ValueError('Optimizer diverged during extraction')\n",
        "        optim_x_recons.zero_grad()\n",
        "        optim_lambda_i.zero_grad()\n",
        "        loss.backward()\n",
        "        optim_x_recons.step()\n",
        "        optim_lambda_i.step()\n",
        "        if(epoch%1000==0):\n",
        "            print(epoch,\" \",kkt_loss,\" \",loss)\n",
        "        "
      ],
      "metadata": {
        "id": "qIpnDa68nFkf",
        "colab": {
          "base_uri": "https://localhost:8080/"
        },
        "outputId": "efd28287-1a93-415e-904b-d803a6d52b69"
      },
      "execution_count": null,
      "outputs": [
        {
          "output_type": "stream",
          "name": "stdout",
          "text": [
            "0   tensor(4325.0681, device='cuda:0', dtype=torch.float64, grad_fn=<AddBackward0>)   tensor(4325.0681, device='cuda:0', dtype=torch.float64, grad_fn=<AddBackward0>)\n",
            "1000   tensor(4325.0681, device='cuda:0', dtype=torch.float64, grad_fn=<AddBackward0>)   tensor(4325.0681, device='cuda:0', dtype=torch.float64, grad_fn=<AddBackward0>)\n",
            "2000   tensor(4325.0681, device='cuda:0', dtype=torch.float64, grad_fn=<AddBackward0>)   tensor(4325.0681, device='cuda:0', dtype=torch.float64, grad_fn=<AddBackward0>)\n",
            "3000   tensor(4325.0681, device='cuda:0', dtype=torch.float64, grad_fn=<AddBackward0>)   tensor(4325.0681, device='cuda:0', dtype=torch.float64, grad_fn=<AddBackward0>)\n",
            "4000   tensor(4325.0681, device='cuda:0', dtype=torch.float64, grad_fn=<AddBackward0>)   tensor(4325.0681, device='cuda:0', dtype=torch.float64, grad_fn=<AddBackward0>)\n",
            "5000   tensor(4325.0681, device='cuda:0', dtype=torch.float64, grad_fn=<AddBackward0>)   tensor(4325.0681, device='cuda:0', dtype=torch.float64, grad_fn=<AddBackward0>)\n",
            "6000   tensor(4325.0681, device='cuda:0', dtype=torch.float64, grad_fn=<AddBackward0>)   tensor(4325.0681, device='cuda:0', dtype=torch.float64, grad_fn=<AddBackward0>)\n",
            "7000   tensor(4325.0681, device='cuda:0', dtype=torch.float64, grad_fn=<AddBackward0>)   tensor(4325.0681, device='cuda:0', dtype=torch.float64, grad_fn=<AddBackward0>)\n",
            "8000   tensor(4325.0681, device='cuda:0', dtype=torch.float64, grad_fn=<AddBackward0>)   tensor(4325.0681, device='cuda:0', dtype=torch.float64, grad_fn=<AddBackward0>)\n",
            "9000   tensor(4325.0681, device='cuda:0', dtype=torch.float64, grad_fn=<AddBackward0>)   tensor(4325.0681, device='cuda:0', dtype=torch.float64, grad_fn=<AddBackward0>)\n",
            "10000   tensor(4325.0681, device='cuda:0', dtype=torch.float64, grad_fn=<AddBackward0>)   tensor(4325.0681, device='cuda:0', dtype=torch.float64, grad_fn=<AddBackward0>)\n",
            "11000   tensor(4325.0681, device='cuda:0', dtype=torch.float64, grad_fn=<AddBackward0>)   tensor(4325.0681, device='cuda:0', dtype=torch.float64, grad_fn=<AddBackward0>)\n"
          ]
        }
      ]
    },
    {
      "cell_type": "code",
      "source": [
        "kkt_loss"
      ],
      "metadata": {
        "id": "J_nXpRYJznyU"
      },
      "execution_count": null,
      "outputs": []
    },
    {
      "cell_type": "code",
      "source": [
        "x_recons = x_recons.cpu()\n",
        "y = y.cpu()\n",
        "plt.scatter(x_recons[:,0].detach().numpy(), x_recons[:,1].detach().numpy(), c=y, cmap='coolwarm')\n",
        "plt.show()"
      ],
      "metadata": {
        "id": "0Nzw7NuaodfB"
      },
      "execution_count": null,
      "outputs": []
    },
    {
      "cell_type": "code",
      "source": [
        "model.parameters"
      ],
      "metadata": {
        "id": "T7pUBnnJsHYP",
        "colab": {
          "base_uri": "https://localhost:8080/"
        },
        "outputId": "e45e5158-832b-4cc0-cfee-a40b8ad58ef2"
      },
      "execution_count": null,
      "outputs": [
        {
          "output_type": "execute_result",
          "data": {
            "text/plain": [
              "<bound method Module.parameters of SimpleMLP(\n",
              "  (mlp1): Linear(in_features=2, out_features=1000, bias=True)\n",
              "  (mlp2): Linear(in_features=1000, out_features=1000, bias=True)\n",
              "  (mlp3): Linear(in_features=1000, out_features=1, bias=True)\n",
              "  (l4): Sigmoid()\n",
              ")>"
            ]
          },
          "metadata": {},
          "execution_count": 209
        }
      ]
    },
    {
      "cell_type": "code",
      "source": [
        "y"
      ],
      "metadata": {
        "colab": {
          "base_uri": "https://localhost:8080/"
        },
        "id": "Vo-00GM4rJW1",
        "outputId": "e6a518d9-023d-481d-815a-4ddd817cfe76"
      },
      "execution_count": null,
      "outputs": [
        {
          "output_type": "execute_result",
          "data": {
            "text/plain": [
              "tensor([0., 0., 0., 0., 0., 0., 0., 0., 0., 0., 0., 0., 0., 0., 0., 0., 0., 0.,\n",
              "        0., 0., 0., 0., 0., 0., 0., 0., 0., 0., 0., 0., 0., 0., 0., 0., 0., 0.,\n",
              "        0., 0., 0., 0., 0., 0., 0., 0., 0., 0., 0., 0., 0., 0., 1., 1., 1., 1.,\n",
              "        1., 1., 1., 1., 1., 1., 1., 1., 1., 1., 1., 1., 1., 1., 1., 1., 1., 1.,\n",
              "        1., 1., 1., 1., 1., 1., 1., 1., 1., 1., 1., 1., 1., 1., 1., 1., 1., 1.,\n",
              "        1., 1., 1., 1., 1., 1., 1., 1., 1., 1.])"
            ]
          },
          "metadata": {},
          "execution_count": 239
        }
      ]
    },
    {
      "cell_type": "code",
      "source": [
        "l_updated=[]\n",
        "for i in range(len(l)):\n",
        "  if(l[i]<5):\n",
        "    l_updated.append(i)"
      ],
      "metadata": {
        "id": "2evIOH2mHbNr"
      },
      "execution_count": null,
      "outputs": []
    },
    {
      "cell_type": "code",
      "source": [
        "x_after_removing_lambda=[x_recons[i] for i in l_updated]"
      ],
      "metadata": {
        "id": "kEexwgb4GRAG"
      },
      "execution_count": null,
      "outputs": []
    },
    {
      "cell_type": "code",
      "source": [
        "y_updated=[y[i] for i in l_updated]"
      ],
      "metadata": {
        "id": "H8FKzlgDH7iB"
      },
      "execution_count": null,
      "outputs": []
    },
    {
      "cell_type": "code",
      "source": [
        "for i in x_after_removing_lambda:\n",
        "  i=torch.tensor(i)"
      ],
      "metadata": {
        "id": "MwcXyKoIIFTk"
      },
      "execution_count": null,
      "outputs": []
    },
    {
      "cell_type": "code",
      "source": [],
      "metadata": {
        "id": "J3PjxoA8JtQY"
      },
      "execution_count": null,
      "outputs": []
    },
    {
      "cell_type": "code",
      "source": [
        "for i in x_after_removing_lambda:\n",
        "  i=i.tolist()"
      ],
      "metadata": {
        "id": "o7e1VW39J_sp"
      },
      "execution_count": null,
      "outputs": []
    },
    {
      "cell_type": "code",
      "source": [
        "x_after_removing_lambda"
      ],
      "metadata": {
        "colab": {
          "base_uri": "https://localhost:8080/"
        },
        "id": "dZjRczgPLgwY",
        "outputId": "13424209-43a5-4eb8-85c7-6efd26524934"
      },
      "execution_count": null,
      "outputs": [
        {
          "output_type": "execute_result",
          "data": {
            "text/plain": [
              "[tensor([0.6181, 0.5252], dtype=torch.float64, grad_fn=<SelectBackward0>),\n",
              " tensor([-0.7065,  0.8584], dtype=torch.float64, grad_fn=<SelectBackward0>),\n",
              " tensor([0.6531, 0.3014], dtype=torch.float64, grad_fn=<SelectBackward0>),\n",
              " tensor([-0.1120,  0.0383], dtype=torch.float64, grad_fn=<SelectBackward0>),\n",
              " tensor([0.5559, 0.6274], dtype=torch.float64, grad_fn=<SelectBackward0>),\n",
              " tensor([0.7814, 0.7718], dtype=torch.float64, grad_fn=<SelectBackward0>),\n",
              " tensor([0.1096, 0.5670], dtype=torch.float64, grad_fn=<SelectBackward0>),\n",
              " tensor([0.1627, 0.2822], dtype=torch.float64, grad_fn=<SelectBackward0>),\n",
              " tensor([-0.5800,  0.1526], dtype=torch.float64, grad_fn=<SelectBackward0>),\n",
              " tensor([ 0.7463, -0.0726], dtype=torch.float64, grad_fn=<SelectBackward0>),\n",
              " tensor([-0.5913, -0.1039], dtype=torch.float64, grad_fn=<SelectBackward0>),\n",
              " tensor([-0.0963, -0.6246], dtype=torch.float64, grad_fn=<SelectBackward0>),\n",
              " tensor([ 0.8689, -0.6275], dtype=torch.float64, grad_fn=<SelectBackward0>),\n",
              " tensor([-0.4183,  0.3895], dtype=torch.float64, grad_fn=<SelectBackward0>),\n",
              " tensor([-0.8413,  0.3711], dtype=torch.float64, grad_fn=<SelectBackward0>),\n",
              " tensor([-0.3853,  0.8333], dtype=torch.float64, grad_fn=<SelectBackward0>),\n",
              " tensor([-0.6940, -0.2000], dtype=torch.float64, grad_fn=<SelectBackward0>),\n",
              " tensor([ 0.5289, -0.8680], dtype=torch.float64, grad_fn=<SelectBackward0>),\n",
              " tensor([0.3151, 0.6550], dtype=torch.float64, grad_fn=<SelectBackward0>),\n",
              " tensor([-0.7852,  0.4979], dtype=torch.float64, grad_fn=<SelectBackward0>),\n",
              " tensor([-0.5598, -0.0326], dtype=torch.float64, grad_fn=<SelectBackward0>),\n",
              " tensor([0.1134, 0.5333], dtype=torch.float64, grad_fn=<SelectBackward0>),\n",
              " tensor([ 0.7365, -0.9715], dtype=torch.float64, grad_fn=<SelectBackward0>),\n",
              " tensor([0.0309, 0.1177], dtype=torch.float64, grad_fn=<SelectBackward0>),\n",
              " tensor([ 0.6101, -0.0519], dtype=torch.float64, grad_fn=<SelectBackward0>),\n",
              " tensor([ 0.3872, -0.1129], dtype=torch.float64, grad_fn=<SelectBackward0>),\n",
              " tensor([-0.2289,  0.1242], dtype=torch.float64, grad_fn=<SelectBackward0>),\n",
              " tensor([-0.1929,  0.3732], dtype=torch.float64, grad_fn=<SelectBackward0>),\n",
              " tensor([ 0.7454, -0.9893], dtype=torch.float64, grad_fn=<SelectBackward0>),\n",
              " tensor([0.2547, 0.1657], dtype=torch.float64, grad_fn=<SelectBackward0>),\n",
              " tensor([0.8519, 0.4900], dtype=torch.float64, grad_fn=<SelectBackward0>),\n",
              " tensor([ 0.2391, -0.7763], dtype=torch.float64, grad_fn=<SelectBackward0>),\n",
              " tensor([-0.2870, -0.8640], dtype=torch.float64, grad_fn=<SelectBackward0>),\n",
              " tensor([ 0.2813, -0.8150], dtype=torch.float64, grad_fn=<SelectBackward0>),\n",
              " tensor([ 0.5007, -0.2513], dtype=torch.float64, grad_fn=<SelectBackward0>),\n",
              " tensor([ 0.0287, -0.0364], dtype=torch.float64, grad_fn=<SelectBackward0>),\n",
              " tensor([ 0.0287, -0.0364], dtype=torch.float64, grad_fn=<SelectBackward0>),\n",
              " tensor([ 0.0125, -0.0474], dtype=torch.float64, grad_fn=<SelectBackward0>),\n",
              " tensor([ 1.0000, -0.3437], dtype=torch.float64, grad_fn=<SelectBackward0>),\n",
              " tensor([ 1.0000, -0.3437], dtype=torch.float64, grad_fn=<SelectBackward0>),\n",
              " tensor([ 0.0141, -0.0149], dtype=torch.float64, grad_fn=<SelectBackward0>),\n",
              " tensor([ 0.0125, -0.0474], dtype=torch.float64, grad_fn=<SelectBackward0>),\n",
              " tensor([-1.0000,  0.5395], dtype=torch.float64, grad_fn=<SelectBackward0>),\n",
              " tensor([ 1.0000, -0.3437], dtype=torch.float64, grad_fn=<SelectBackward0>),\n",
              " tensor([ 1.0000, -0.3438], dtype=torch.float64, grad_fn=<SelectBackward0>),\n",
              " tensor([ 1.0000, -0.3437], dtype=torch.float64, grad_fn=<SelectBackward0>),\n",
              " tensor([ 1.0000, -0.3438], dtype=torch.float64, grad_fn=<SelectBackward0>),\n",
              " tensor([-0.0274, -0.4369], dtype=torch.float64, grad_fn=<SelectBackward0>),\n",
              " tensor([ 1.0000, -0.3437], dtype=torch.float64, grad_fn=<SelectBackward0>),\n",
              " tensor([ 1.0000, -0.3437], dtype=torch.float64, grad_fn=<SelectBackward0>),\n",
              " tensor([ 0.0287, -0.0364], dtype=torch.float64, grad_fn=<SelectBackward0>),\n",
              " tensor([ 1.0000, -0.3437], dtype=torch.float64, grad_fn=<SelectBackward0>),\n",
              " tensor([-0.9954, -0.1658], dtype=torch.float64, grad_fn=<SelectBackward0>),\n",
              " tensor([-0.0274, -0.4369], dtype=torch.float64, grad_fn=<SelectBackward0>),\n",
              " tensor([ 0.0464, -0.0754], dtype=torch.float64, grad_fn=<SelectBackward0>),\n",
              " tensor([-0.0274, -0.4369], dtype=torch.float64, grad_fn=<SelectBackward0>),\n",
              " tensor([-1.0000,  0.5395], dtype=torch.float64, grad_fn=<SelectBackward0>),\n",
              " tensor([ 0.0141, -0.0149], dtype=torch.float64, grad_fn=<SelectBackward0>),\n",
              " tensor([ 1.0000, -0.3438], dtype=torch.float64, grad_fn=<SelectBackward0>),\n",
              " tensor([-1.0000,  0.5395], dtype=torch.float64, grad_fn=<SelectBackward0>),\n",
              " tensor([ 0.0141, -0.0149], dtype=torch.float64, grad_fn=<SelectBackward0>),\n",
              " tensor([-1.0000,  0.5395], dtype=torch.float64, grad_fn=<SelectBackward0>),\n",
              " tensor([ 1.0000, -0.3437], dtype=torch.float64, grad_fn=<SelectBackward0>),\n",
              " tensor([ 0.0141, -0.0149], dtype=torch.float64, grad_fn=<SelectBackward0>),\n",
              " tensor([ 1.0000, -0.3437], dtype=torch.float64, grad_fn=<SelectBackward0>),\n",
              " tensor([ 1.0000, -0.3438], dtype=torch.float64, grad_fn=<SelectBackward0>),\n",
              " tensor([ 0.0141, -0.0149], dtype=torch.float64, grad_fn=<SelectBackward0>),\n",
              " tensor([ 1.0000, -0.3437], dtype=torch.float64, grad_fn=<SelectBackward0>),\n",
              " tensor([ 0.0141, -0.0149], dtype=torch.float64, grad_fn=<SelectBackward0>),\n",
              " tensor([ 1.0000, -0.3437], dtype=torch.float64, grad_fn=<SelectBackward0>),\n",
              " tensor([ 0.0287, -0.0364], dtype=torch.float64, grad_fn=<SelectBackward0>),\n",
              " tensor([ 0.0125, -0.0474], dtype=torch.float64, grad_fn=<SelectBackward0>),\n",
              " tensor([ 0.0141, -0.0149], dtype=torch.float64, grad_fn=<SelectBackward0>),\n",
              " tensor([-0.4030,  0.9188], dtype=torch.float64, grad_fn=<SelectBackward0>),\n",
              " tensor([ 1.0000, -0.3437], dtype=torch.float64, grad_fn=<SelectBackward0>),\n",
              " tensor([ 1.0000, -0.3438], dtype=torch.float64, grad_fn=<SelectBackward0>),\n",
              " tensor([ 0.0287, -0.0364], dtype=torch.float64, grad_fn=<SelectBackward0>),\n",
              " tensor([-0.4030,  0.9188], dtype=torch.float64, grad_fn=<SelectBackward0>),\n",
              " tensor([ 0.0287, -0.0364], dtype=torch.float64, grad_fn=<SelectBackward0>)]"
            ]
          },
          "metadata": {},
          "execution_count": 275
        }
      ]
    },
    {
      "cell_type": "code",
      "source": [
        "x_recons_list=x_recons.tolist()"
      ],
      "metadata": {
        "id": "V184_qWxHv0W"
      },
      "execution_count": null,
      "outputs": []
    },
    {
      "cell_type": "code",
      "source": [
        "x_recons_list=[x_recons_list[i] for i in l_updated]"
      ],
      "metadata": {
        "id": "YaZpP9xaHQtR"
      },
      "execution_count": null,
      "outputs": []
    },
    {
      "cell_type": "code",
      "source": [
        "x_recons_list"
      ],
      "metadata": {
        "colab": {
          "base_uri": "https://localhost:8080/"
        },
        "id": "HB01bTn8L5PW",
        "outputId": "af0011b6-0307-4145-d18f-eb15a6df5458"
      },
      "execution_count": null,
      "outputs": [
        {
          "output_type": "execute_result",
          "data": {
            "text/plain": [
              "[[0.6181474467960141, 0.5251645127321973],\n",
              " [-0.706477931292861, 0.8584289464878847],\n",
              " [0.6530623090735923, 0.30140598661403883],\n",
              " [-0.11196191244728841, 0.03829231132385157],\n",
              " [0.5558789214283211, 0.627430306532399],\n",
              " [0.7814269653519305, 0.7718471685609745],\n",
              " [0.10962087792618812, 0.5670485736015184],\n",
              " [0.16271585346793266, 0.282165273731458],\n",
              " [-0.579966107751664, 0.152590340940237],\n",
              " [0.7462525614205648, -0.07264541163739435],\n",
              " [-0.5912614689672671, -0.10389781516098857],\n",
              " [-0.09634714889306593, -0.6245780292582993],\n",
              " [0.8688783348977086, -0.6275323313601769],\n",
              " [-0.4183153758516972, 0.38950951629513547],\n",
              " [-0.8413319003002175, 0.37111790252705856],\n",
              " [-0.3852682064824513, 0.8333454519063085],\n",
              " [-0.6940413299756708, -0.19997020796917048],\n",
              " [0.5289090241261352, -0.8680496371004321],\n",
              " [0.3150547703615553, 0.655025618742167],\n",
              " [-0.7852195719429897, 0.49791996539953287],\n",
              " [-0.5597919256074679, -0.03262313687626811],\n",
              " [0.11341970942932339, 0.5333223480762428],\n",
              " [0.736506762474211, -0.9715395860063852],\n",
              " [0.030861841189395323, 0.11768450755997613],\n",
              " [0.6101393887156773, -0.05189721446812639],\n",
              " [0.38715959768988534, -0.11286248622755442],\n",
              " [-0.22893352939378578, 0.12419776536912282],\n",
              " [-0.1929457342978437, 0.3731756655589129],\n",
              " [0.7454228570121756, -0.9892911974102946],\n",
              " [0.2546972644782376, 0.16565757709002196],\n",
              " [0.8518813056546732, 0.4899793200795956],\n",
              " [0.2391192398751296, -0.7763098216375126],\n",
              " [-0.28695353043453214, -0.8639655688816389],\n",
              " [0.2812513576911465, -0.8150477612507045],\n",
              " [0.5006565294240991, -0.25125400831497824],\n",
              " [0.028665192924318076, -0.03640784330756865],\n",
              " [0.028657010494552822, -0.03640572650481597],\n",
              " [0.01252898684040899, -0.04737474925158891],\n",
              " [1.0000022794339567, -0.34374285141226485],\n",
              " [1.0000016805752785, -0.34374299806686553],\n",
              " [0.014104559000583244, -0.014915191802586568],\n",
              " [0.012536515412461804, -0.047382824198224247],\n",
              " [-1.000042729368308, 0.5394585949927015],\n",
              " [1.0000039345733078, -0.34374520632753414],\n",
              " [1.0000192176766782, -0.3437617964148195],\n",
              " [1.0000018163500588, -0.3437472869648168],\n",
              " [0.9999909817446027, -0.3437651001440466],\n",
              " [-0.02741549437196777, -0.43689101619871423],\n",
              " [1.0000016071146927, -0.3437446968030831],\n",
              " [1.000002136266836, -0.34374269914623173],\n",
              " [0.028665949657259437, -0.03641059660443815],\n",
              " [1.0000115945651717, -0.34374771732546305],\n",
              " [-0.9953646179835915, -0.1657690924718032],\n",
              " [-0.02741921970119943, -0.4368839022955743],\n",
              " [0.04637543224130989, -0.07536995656907529],\n",
              " [-0.027413037723613896, -0.4368877919671517],\n",
              " [-1.0000045991202346, 0.5394780780122975],\n",
              " [0.014108727211963353, -0.014905281191679942],\n",
              " [1.0000047769885305, -0.3437648484688204],\n",
              " [-1.000043904668903, 0.5394647694009503],\n",
              " [0.014118443959170337, -0.014909104959345847],\n",
              " [-1.0000000110328637, 0.5394590069333606],\n",
              " [1.0000112843508564, -0.3437372402415472],\n",
              " [0.014102207655908729, -0.014912735011403482],\n",
              " [1.0000017837984994, -0.34374504452539056],\n",
              " [1.0000037932660266, -0.3437500209622107],\n",
              " [0.014110680770973695, -0.014906655735288484],\n",
              " [1.000000878911876, -0.34374753477048325],\n",
              " [0.014110431580446836, -0.01491065394232017],\n",
              " [0.9999999855994167, -0.34374672384478194],\n",
              " [0.028706351495824317, -0.03639116492200991],\n",
              " [0.012534914041742583, -0.04737381224834909],\n",
              " [0.014105084474001378, -0.014909724586272436],\n",
              " [-0.4029754040532544, 0.9187745114913232],\n",
              " [1.0000000502648159, -0.3437406309392693],\n",
              " [1.0000022759412128, -0.34375505565664016],\n",
              " [0.028705120050233623, -0.0363873186500718],\n",
              " [-0.4029766888986298, 0.9187697927043745],\n",
              " [0.028702499169600434, -0.036388174618124505]]"
            ]
          },
          "metadata": {},
          "execution_count": 280
        }
      ]
    },
    {
      "cell_type": "code",
      "source": [
        "y"
      ],
      "metadata": {
        "colab": {
          "base_uri": "https://localhost:8080/"
        },
        "id": "3idRntgFMYFO",
        "outputId": "e042553a-2233-4956-84f7-f6fba789b044"
      },
      "execution_count": null,
      "outputs": [
        {
          "output_type": "execute_result",
          "data": {
            "text/plain": [
              "tensor([0., 0., 0., 0., 0., 0., 0., 0., 0., 0., 0., 0., 0., 0., 0., 0., 0., 0.,\n",
              "        0., 0., 0., 0., 0., 0., 0., 0., 0., 0., 0., 0., 0., 0., 0., 0., 0., 0.,\n",
              "        0., 0., 0., 0., 0., 0., 0., 0., 0., 0., 0., 0., 0., 0., 1., 1., 1., 1.,\n",
              "        1., 1., 1., 1., 1., 1., 1., 1., 1., 1., 1., 1., 1., 1., 1., 1., 1., 1.,\n",
              "        1., 1., 1., 1., 1., 1., 1., 1., 1., 1., 1., 1., 1., 1., 1., 1., 1., 1.,\n",
              "        1., 1., 1., 1., 1., 1., 1., 1., 1., 1.])"
            ]
          },
          "metadata": {},
          "execution_count": 282
        }
      ]
    },
    {
      "cell_type": "code",
      "source": [
        "l_updated #contains indices of l with l<5"
      ],
      "metadata": {
        "colab": {
          "base_uri": "https://localhost:8080/"
        },
        "id": "hDq78uGWM8vx",
        "outputId": "990098b7-6015-4e00-e9b0-54436be86faf"
      },
      "execution_count": null,
      "outputs": [
        {
          "output_type": "execute_result",
          "data": {
            "text/plain": [
              "[1,\n",
              " 3,\n",
              " 4,\n",
              " 5,\n",
              " 6,\n",
              " 7,\n",
              " 8,\n",
              " 10,\n",
              " 13,\n",
              " 14,\n",
              " 15,\n",
              " 16,\n",
              " 17,\n",
              " 19,\n",
              " 21,\n",
              " 22,\n",
              " 23,\n",
              " 24,\n",
              " 25,\n",
              " 26,\n",
              " 27,\n",
              " 28,\n",
              " 31,\n",
              " 33,\n",
              " 35,\n",
              " 36,\n",
              " 37,\n",
              " 38,\n",
              " 39,\n",
              " 40,\n",
              " 42,\n",
              " 44,\n",
              " 45,\n",
              " 46,\n",
              " 48,\n",
              " 50,\n",
              " 51,\n",
              " 53,\n",
              " 54,\n",
              " 56,\n",
              " 57,\n",
              " 58,\n",
              " 59,\n",
              " 60,\n",
              " 61,\n",
              " 62,\n",
              " 63,\n",
              " 64,\n",
              " 66,\n",
              " 68,\n",
              " 69,\n",
              " 70,\n",
              " 71,\n",
              " 72,\n",
              " 74,\n",
              " 75,\n",
              " 76,\n",
              " 78,\n",
              " 79,\n",
              " 80,\n",
              " 81,\n",
              " 82,\n",
              " 83,\n",
              " 84,\n",
              " 85,\n",
              " 86,\n",
              " 87,\n",
              " 88,\n",
              " 89,\n",
              " 90,\n",
              " 91,\n",
              " 92,\n",
              " 93,\n",
              " 94,\n",
              " 95,\n",
              " 96,\n",
              " 97,\n",
              " 98,\n",
              " 99]"
            ]
          },
          "metadata": {},
          "execution_count": 283
        }
      ]
    },
    {
      "cell_type": "code",
      "source": [],
      "metadata": {
        "id": "57FqGBBZNIi4"
      },
      "execution_count": null,
      "outputs": []
    }
  ]
}