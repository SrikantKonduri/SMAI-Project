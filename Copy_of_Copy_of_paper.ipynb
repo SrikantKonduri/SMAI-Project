{
  "nbformat": 4,
  "nbformat_minor": 0,
  "metadata": {
    "colab": {
      "provenance": []
    },
    "kernelspec": {
      "name": "python3",
      "display_name": "Python 3"
    },
    "language_info": {
      "name": "python"
    },
    "accelerator": "GPU",
    "gpuClass": "standard"
  },
  "cells": [
    {
      "cell_type": "code",
      "source": [
        "import warnings\n",
        "warnings.filterwarnings(\"ignore\")\n",
        "\n",
        "import numpy as np\n",
        "import pandas as pd\n",
        "\n",
        "import matplotlib.pyplot as plt\n",
        "import seaborn as sns\n",
        "%matplotlib inline\n",
        "from tqdm import tqdm\n",
        "import torch\n",
        "import torchvision\n",
        "from torchvision import datasets\n",
        "from torchvision import transforms\n",
        "from torch.autograd import Variable\n",
        "import torch.nn as nn\n",
        "from sklearn.metrics import classification_report,confusion_matrix"
      ],
      "metadata": {
        "id": "4RJonoI0UE7x"
      },
      "execution_count": null,
      "outputs": []
    },
    {
      "cell_type": "code",
      "execution_count": null,
      "metadata": {
        "id": "jTJgPlvclZoa",
        "colab": {
          "base_uri": "https://localhost:8080/"
        },
        "outputId": "7c26c5f1-2a99-463a-d1fc-3aa2c05f899c"
      },
      "outputs": [
        {
          "output_type": "stream",
          "name": "stdout",
          "text": [
            "Data:\n",
            " [[ 1.00000000e+00  0.00000000e+00]\n",
            " [ 9.45817242e-01  3.24699469e-01]\n",
            " [ 7.89140509e-01  6.14212713e-01]\n",
            " [ 5.46948158e-01  8.37166478e-01]\n",
            " [ 2.45485487e-01  9.69400266e-01]\n",
            " [-8.25793455e-02  9.96584493e-01]\n",
            " [-4.01695425e-01  9.15773327e-01]\n",
            " [-6.77281572e-01  7.35723911e-01]\n",
            " [-8.79473751e-01  4.75947393e-01]\n",
            " [-9.86361303e-01  1.64594590e-01]\n",
            " [-9.86361303e-01 -1.64594590e-01]\n",
            " [-8.79473751e-01 -4.75947393e-01]\n",
            " [-6.77281572e-01 -7.35723911e-01]\n",
            " [-4.01695425e-01 -9.15773327e-01]\n",
            " [-8.25793455e-02 -9.96584493e-01]\n",
            " [ 2.45485487e-01 -9.69400266e-01]\n",
            " [ 5.46948158e-01 -8.37166478e-01]\n",
            " [ 7.89140509e-01 -6.14212713e-01]\n",
            " [ 9.45817242e-01 -3.24699469e-01]\n",
            " [ 1.00000000e+00 -2.44929360e-16]]\n",
            "Labels:\n",
            " [ 1. -1.  1. -1.  1. -1.  1. -1.  1. -1.  1. -1.  1. -1.  1. -1.  1. -1.\n",
            "  1. -1.]\n"
          ]
        }
      ],
      "source": [
        "import numpy as np\n",
        "\n",
        "# Define radius and center of circle\n",
        "r = 1\n",
        "center = (0, 0)\n",
        "\n",
        "# Define angle range for circle\n",
        "theta = np.linspace(0, 2*np.pi, 20)\n",
        "\n",
        "# Generate coordinates for points on circle\n",
        "x = center[0] + r*np.cos(theta)\n",
        "y = center[1] + r*np.sin(theta)\n",
        "\n",
        "# Combine x and y into a single array\n",
        "data = np.stack((x, y), axis=1)\n",
        "\n",
        "# Assign alternating labels\n",
        "labels = np.ones(20)\n",
        "labels[1::2] = -1\n",
        "labels=np.asarray([float(i) for i in labels])\n",
        "print(\"Data:\\n\", data)\n",
        "print(\"Labels:\\n\", labels)\n"
      ]
    },
    {
      "cell_type": "code",
      "source": [],
      "metadata": {
        "id": "WoBJ6ymUlWDm"
      },
      "execution_count": null,
      "outputs": []
    },
    {
      "cell_type": "code",
      "source": [
        "import numpy as np\n",
        "import matplotlib.pyplot as plt\n",
        "\n",
        "# Plot the data with different colors for each label\n",
        "plt.scatter(data[:,0], data[:,1], c=labels, cmap='coolwarm')\n",
        "plt.show()"
      ],
      "metadata": {
        "colab": {
          "base_uri": "https://localhost:8080/",
          "height": 430
        },
        "id": "f0OgnVoZmspg",
        "outputId": "b938a741-8e78-47a1-f076-8e8caeefa4fc"
      },
      "execution_count": null,
      "outputs": [
        {
          "output_type": "display_data",
          "data": {
            "text/plain": [
              "<Figure size 640x480 with 1 Axes>"
            ],
            "image/png": "[encoded data removed]"
          },
          "metadata": {}
        }
      ]
    },
    {
      "cell_type": "code",
      "source": [
        "device = torch.device(\"cuda:0\" if torch.cuda.is_available() else \"cpu\")\n",
        "print(device)"
      ],
      "metadata": {
        "colab": {
          "base_uri": "https://localhost:8080/"
        },
        "id": "uykxx0Q6UN03",
        "outputId": "bd20b580-3d06-4aec-cc90-f9c10cd7fafc"
      },
      "execution_count": null,
      "outputs": [
        {
          "output_type": "stream",
          "name": "stdout",
          "text": [
            "cuda:0\n"
          ]
        }
      ]
    },
    {
      "cell_type": "code",
      "source": [
        "import torch.nn.init as init"
      ],
      "metadata": {
        "id": "EpIZGoknn5ki"
      },
      "execution_count": null,
      "outputs": []
    },
    {
      "cell_type": "code",
      "source": [
        "class SimpleMLP(nn.Module):\n",
        "    def __init__(self):\n",
        "        super(SimpleMLP,self).__init__()\n",
        "        # code here\n",
        "        self.mlp1=nn.Linear(2,1000)\n",
        "        self.mlp2=nn.Linear(1000,1000)\n",
        "        self.mlp3=nn.Linear(1000,1)\n",
        "        self.l4=nn.Sigmoid()\n",
        "        self.double()\n",
        "        init.normal_(self.mlp1.weight, mean=0, std=0.0001)\n",
        "        init.kaiming_uniform_(self.mlp2.weight)\n",
        "        init.kaiming_uniform_(self.mlp3.weight)\n",
        "        init.constant_(self.mlp1.bias, 0)\n",
        "        nn.init.zeros_(self.mlp2.bias)\n",
        "        nn.init.zeros_(self.mlp3.bias)\n",
        "    def forward(self,x):\n",
        "        # code here\n",
        "        output=torch.relu(self.mlp1(x))\n",
        "        output=torch.relu(self.mlp2(output))\n",
        "        output=self.mlp3(output)\n",
        "        output=self.l4(output)\n",
        "        return output\n",
        "model=SimpleMLP().to(device)"
      ],
      "metadata": {
        "id": "BsZ6_JGenh3I"
      },
      "execution_count": null,
      "outputs": []
    },
    {
      "cell_type": "code",
      "source": [
        "import torch.nn as nn\n",
        "\n",
        "class MLP1(nn.Module):\n",
        "    def __init__(self):\n",
        "        super(MLP1, self).__init__()\n",
        "        self.fc1 = nn.Linear(2, 1000)\n",
        "        self.fc2 = nn.Linear(1000, 1000)\n",
        "        self.fc3 = nn.Linear(1000,1)\n",
        "        self.relu = nn.ReLU()\n",
        "        self.sigmoid = nn.Sigmoid()\n",
        "        self.double()\n",
        "    def forward(self, x):\n",
        "        x = self.relu(self.fc1(x))\n",
        "        x = self.relu(self.fc2(x))\n",
        "        x = self.relu(self.fc3(x))\n",
        "        x = self.sigmoid(x)\n",
        "        return x\n",
        "model1=MLP1().to(device)"
      ],
      "metadata": {
        "id": "eIISBO3eziwc"
      },
      "execution_count": null,
      "outputs": []
    },
    {
      "cell_type": "code",
      "source": [
        "optim_sgd_moment=torch.optim.SGD(model.parameters(),lr=0.01)"
      ],
      "metadata": {
        "id": "5XblhJOenoDO"
      },
      "execution_count": null,
      "outputs": []
    },
    {
      "cell_type": "code",
      "source": [
        "import torch\n",
        "from torch.utils.data import Dataset, DataLoader\n",
        "\n",
        "class MyDataset(Dataset):\n",
        "    def __init__(self, data, labels):\n",
        "        self.data = data\n",
        "        self.labels = labels\n",
        "        \n",
        "    def __len__(self):\n",
        "        return len(self.data)\n",
        "    \n",
        "    def __getitem__(self, idx):\n",
        "        return self.data[idx], self.labels[idx]"
      ],
      "metadata": {
        "id": "nQfoNfu-YgFv"
      },
      "execution_count": null,
      "outputs": []
    },
    {
      "cell_type": "code",
      "source": [
        "dataset = MyDataset(data, labels)\n",
        "dataloader = DataLoader(dataset, batch_size=20,shuffle=True)"
      ],
      "metadata": {
        "id": "8XvzzP-PZAS6"
      },
      "execution_count": null,
      "outputs": []
    },
    {
      "cell_type": "code",
      "source": [
        "for i in dataloader:\n",
        "  output=model(i[0])\n",
        "  print(output.squeeze(dim=0))\n",
        "  "
      ],
      "metadata": {
        "id": "VnhgWGHTZ72C"
      },
      "execution_count": null,
      "outputs": []
    },
    {
      "cell_type": "code",
      "source": [],
      "metadata": {
        "id": "Wygfw0es8RdZ"
      },
      "execution_count": null,
      "outputs": []
    },
    {
      "cell_type": "code",
      "source": [
        "n_epochs=1000\n",
        "epochs=tqdm(range(n_epochs))\n",
        "training_loss_sgd=[]\n",
        "for epoch in epochs:\n",
        "  train_loss=[]\n",
        "  model.train()\n",
        "  for batch in dataloader:\n",
        "    optim_sgd_moment.zero_grad()\n",
        "    images=batch[0].to(device)\n",
        "    label=batch[1].to(device)\n",
        "    output=model(images)\n",
        "    #print(output.dtype)\n",
        "    loss=nn.BCELoss()(output.squeeze(),label)\n",
        "    loss.backward()\n",
        "    optim_sgd_moment.step()\n",
        "    train_loss.append(loss.item())\n",
        "  loss_now=np.mean(train_loss)\n",
        "  training_loss_sgd.append(loss_now)\n",
        "  epochs.set_postfix({'loss':loss_now}) "
      ],
      "metadata": {
        "id": "TDcwqrl2nqM7",
        "colab": {
          "base_uri": "https://localhost:8080/"
        },
        "outputId": "fcd70035-2f80-4ddf-9e25-54e74e9b7c80"
      },
      "execution_count": null,
      "outputs": [
        {
          "output_type": "stream",
          "name": "stderr",
          "text": [
            "100%|██████████| 1000/1000 [00:07<00:00, 128.51it/s, loss=0.0043]\n"
          ]
        }
      ]
    },
    {
      "cell_type": "code",
      "source": [
        "n_epochs=1000\n",
        "epochs=tqdm(range(n_epochs))\n",
        "training_loss_sgd=[]\n",
        "for epoch in epochs:\n",
        "  train_loss=[]\n",
        "  model1.train()\n",
        "  for batch in dataloader:\n",
        "    optim_sgd_moment.zero_grad()\n",
        "    images=batch[0].to(device)\n",
        "    label=batch[1].to(device)\n",
        "    output=model1(images)\n",
        "    #print(output.dtype)\n",
        "    loss=nn.BCELoss()(output.squeeze(),label)\n",
        "    loss.backward()\n",
        "    optim_sgd_moment.step()\n",
        "    train_loss.append(loss.item())\n",
        "  loss_now=np.mean(train_loss)\n",
        "  training_loss_sgd.append(loss_now)\n",
        "  epochs.set_postfix({'loss':loss_now}) "
      ],
      "metadata": {
        "colab": {
          "base_uri": "https://localhost:8080/"
        },
        "id": "fcMdwJMr0Ovw",
        "outputId": "7462ad45-8f06-4778-c25c-6418f0bff7b0"
      },
      "execution_count": null,
      "outputs": [
        {
          "output_type": "stream",
          "name": "stderr",
          "text": [
            "100%|██████████| 1000/1000 [00:15<00:00, 65.21it/s, loss=0.693]\n"
          ]
        }
      ]
    },
    {
      "cell_type": "code",
      "source": [
        "weights_1 = model.mlp1.weight.data\n",
        "weights_2 = model.mlp2.weight.data\n",
        "weights_3 = model.mlp3.weight.data"
      ],
      "metadata": {
        "id": "7QxXlNvnZJyb"
      },
      "execution_count": null,
      "outputs": []
    },
    {
      "cell_type": "code",
      "source": [
        "weights_3.shape"
      ],
      "metadata": {
        "colab": {
          "base_uri": "https://localhost:8080/"
        },
        "id": "91jfabkeo8QP",
        "outputId": "5cf51094-8ed2-41c2-cb11-f6a164d25de8"
      },
      "execution_count": null,
      "outputs": [
        {
          "output_type": "execute_result",
          "data": {
            "text/plain": [
              "torch.Size([1, 1000])"
            ]
          },
          "metadata": {},
          "execution_count": 23
        }
      ]
    },
    {
      "cell_type": "code",
      "source": [
        "num_samples = 100"
      ],
      "metadata": {
        "id": "1GOQtkX2p0OD"
      },
      "execution_count": null,
      "outputs": []
    },
    {
      "cell_type": "code",
      "source": [
        "x_recons = torch.randn(num_samples, 2,dtype=torch.float64) #creating random x \n",
        "l=torch.rand(num_samples)#creating random lamdas for respective x\n",
        "x_recons.requires_grad_(True)\n",
        "l.requires_grad_(True)\n",
        "opt_x_recons = torch.optim.Adam([x_recons], lr=0.2821179669627431) #making it optimising variable\n",
        "opt_l=torch.optim.Adam([l],lr=0.2821179669627431) #making it optimising variable"
      ],
      "metadata": {
        "id": "qTenqv7Ho-G3"
      },
      "execution_count": null,
      "outputs": []
    },
    {
      "cell_type": "code",
      "source": [
        "y = torch.ones(100)\n",
        "y[:50] =-1"
      ],
      "metadata": {
        "id": "KIoidvL50ZtV"
      },
      "execution_count": null,
      "outputs": []
    },
    {
      "cell_type": "code",
      "source": [
        "x_recons.dtype"
      ],
      "metadata": {
        "colab": {
          "base_uri": "https://localhost:8080/"
        },
        "id": "iIFQQNBjDJTf",
        "outputId": "e63baedd-80e9-4d2c-c774-b0338a30923e"
      },
      "execution_count": null,
      "outputs": [
        {
          "output_type": "execute_result",
          "data": {
            "text/plain": [
              "torch.float64"
            ]
          },
          "metadata": {},
          "execution_count": 224
        }
      ]
    },
    {
      "cell_type": "code",
      "source": [
        "values=model(x_recons.to(device))"
      ],
      "metadata": {
        "id": "cSbsqxSYC7lq"
      },
      "execution_count": null,
      "outputs": []
    },
    {
      "cell_type": "code",
      "source": [
        "values=values.reshape(-1)"
      ],
      "metadata": {
        "id": "MgOvl10OC-8K"
      },
      "execution_count": null,
      "outputs": []
    },
    {
      "cell_type": "code",
      "source": [
        " #before\n",
        "plt.scatter(x_recons[:,0].detach().numpy(), x_recons[:,1].detach().numpy(), c=y, cmap='coolwarm')\n",
        "plt.show()"
      ],
      "metadata": {
        "colab": {
          "base_uri": "https://localhost:8080/",
          "height": 430
        },
        "id": "34P72io5P-Rh",
        "outputId": "b5c3ca61-b33c-4b5a-e245-6dc7f3e09a26"
      },
      "execution_count": null,
      "outputs": [
        {
          "output_type": "display_data",
          "data": {
            "text/plain": [
              "<Figure size 640x480 with 1 Axes>"
            ],
            "image/png": "[encoded data removed]"
          },
          "metadata": {}
        }
      ]
    },
    {
      "cell_type": "code",
      "source": [
        "plt.scatter(x_recons[:,0].detach().numpy(), x_recons[:,1].detach().numpy(), c=y, cmap='coolwarm')\n",
        "plt.show() #after exp1 used only kkt loss"
      ],
      "metadata": {
        "colab": {
          "base_uri": "https://localhost:8080/",
          "height": 430
        },
        "id": "C1OJt7zIGsSQ",
        "outputId": "f03aec1b-7770-4404-88c7-977a4505eaa3"
      },
      "execution_count": null,
      "outputs": [
        {
          "output_type": "display_data",
          "data": {
            "text/plain": [
              "<Figure size 640x480 with 1 Axes>"
            ],
            "image/png": "[encoded data removed]"
          },
          "metadata": {}
        }
      ]
    },
    {
      "cell_type": "code",
      "source": [
        "plt.scatter(x_recons[:,0].detach().numpy(), x_recons[:,1].detach().numpy(), c=y, cmap='coolwarm')\n",
        "plt.show() #exp3 using two losses"
      ],
      "metadata": {
        "id": "bg2-UbgzlcXG",
        "outputId": "a3717808-960f-4568-bf18-008884223a79",
        "colab": {
          "base_uri": "https://localhost:8080/",
          "height": 430
        }
      },
      "execution_count": null,
      "outputs": [
        {
          "output_type": "display_data",
          "data": {
            "text/plain": [
              "<Figure size 640x480 with 1 Axes>"
            ],
            "image/png": "[encoded data removed]"
          },
          "metadata": {}
        }
      ]
    },
    {
      "cell_type": "code",
      "source": [
        "fig, axs = plt.subplots(1, 2, figsize=(10,5))\n",
        "\n",
        "# plot the first data set on the first axis\n",
        "axs[0].scatter(data[:,0], data[:,1], c=labels)\n",
        "axs[0].set_title('X before')\n",
        "\n",
        "# plot the second data set on the second axis\n",
        "axs[1].scatter(x_recons[:,0].detach().numpy(), x_recons[:,1].detach().numpy(), c=y)\n",
        "axs[1].set_title('X recons')\n",
        "\n",
        "# add labels to the x and y axes of both subplots\n",
        "for ax in axs:\n",
        "    ax.set_xlabel('X')\n",
        "    ax.set_ylabel('Y')\n",
        "\n",
        "# show the plot\n",
        "plt.show()"
      ],
      "metadata": {
        "id": "DPBMzOiHn2PN",
        "outputId": "4b4d3da3-e32c-456e-ab78-7186e701d474",
        "colab": {
          "base_uri": "https://localhost:8080/",
          "height": 487
        }
      },
      "execution_count": null,
      "outputs": [
        {
          "output_type": "display_data",
          "data": {
            "text/plain": [
              "<Figure size 1000x500 with 2 Axes>"
            ],
            "image/png": "[encoded data removed]"
          },
          "metadata": {}
        }
      ]
    },
    {
      "cell_type": "code",
      "source": [
        "print(l.shape,y.shape,values.shape)"
      ],
      "metadata": {
        "colab": {
          "base_uri": "https://localhost:8080/"
        },
        "id": "pt9dcOBNSyGP",
        "outputId": "fb0bfd5e-4bce-4a61-9579-e616edd309fc"
      },
      "execution_count": null,
      "outputs": [
        {
          "output_type": "stream",
          "name": "stdout",
          "text": [
            "torch.Size([100]) (20,) torch.Size([100])\n"
          ]
        }
      ]
    },
    {
      "cell_type": "code",
      "source": [
        "l #before"
      ],
      "metadata": {
        "colab": {
          "base_uri": "https://localhost:8080/"
        },
        "id": "HSlAKe-2S-K4",
        "outputId": "9a9c93f7-e97e-44e4-f3fe-928decb35e5d"
      },
      "execution_count": null,
      "outputs": [
        {
          "output_type": "execute_result",
          "data": {
            "text/plain": [
              "tensor([0.2575, 0.2861, 0.3870, 0.8950, 0.8067, 0.7192, 0.6840, 0.9293, 0.3493,\n",
              "        0.2679, 0.1839, 0.6996, 0.7642, 0.5651, 0.8860, 0.6100, 0.1007, 0.4627,\n",
              "        0.0525, 0.0900, 0.5566, 0.4565, 0.8323, 0.2629, 0.5069, 0.0858, 0.0351,\n",
              "        0.5681, 0.6359, 0.0326, 0.3475, 0.3903, 0.4458, 0.7679, 0.6049, 0.7833,\n",
              "        0.6453, 0.0470, 0.2950, 0.4041, 0.0279, 0.7883, 0.0356, 0.0459, 0.7692,\n",
              "        0.3108, 0.9748, 0.5898, 0.1724, 0.2777, 0.9932, 0.3123, 0.7325, 0.9885,\n",
              "        0.0491, 0.0562, 0.1357, 0.2478, 0.0341, 0.6965, 0.1903, 0.7650, 0.8405,\n",
              "        0.0844, 0.0119, 0.9285, 0.0225, 0.1457, 0.9269, 0.8725, 0.4208, 0.8836,\n",
              "        0.0655, 0.2297, 0.7024, 0.0659, 0.7956, 0.7959, 0.4488, 0.8414, 0.1895,\n",
              "        0.0803, 0.1718, 0.5175, 0.5189, 0.9169, 0.1672, 0.8132, 0.6833, 0.8670,\n",
              "        0.8616, 0.1010, 0.2821, 0.2489, 0.7421, 0.8009, 0.7302, 0.8673, 0.0428,\n",
              "        0.5905], requires_grad=True)"
            ]
          },
          "metadata": {},
          "execution_count": 32
        }
      ]
    },
    {
      "cell_type": "code",
      "source": [
        "l #after"
      ],
      "metadata": {
        "colab": {
          "base_uri": "https://localhost:8080/"
        },
        "id": "PKhH5U5qGYXh",
        "outputId": "384b6c62-826e-49da-adbd-805c9b9f9e33"
      },
      "execution_count": null,
      "outputs": [
        {
          "output_type": "execute_result",
          "data": {
            "text/plain": [
              "tensor([0.2575, 0.2861, 0.3870, 0.8950, 0.8067, 0.7192, 0.6840, 0.9293, 0.3493,\n",
              "        0.2679, 0.1839, 0.6996, 0.7642, 0.5651, 0.8860, 0.6100, 0.1007, 0.4627,\n",
              "        0.0525, 0.0900, 0.5566, 0.4565, 0.8323, 0.2629, 0.5069, 0.0858, 0.0351,\n",
              "        0.5681, 0.6359, 0.0326, 0.3475, 0.3903, 0.4458, 0.7679, 0.6049, 0.7833,\n",
              "        0.6453, 0.0470, 0.2950, 0.4041, 0.0279, 0.7883, 0.0356, 0.0459, 0.7692,\n",
              "        0.3108, 0.9748, 0.5898, 0.1724, 0.2777, 0.9932, 0.3123, 0.7325, 0.9885,\n",
              "        0.0491, 0.0562, 0.1357, 0.2478, 0.0341, 0.6965, 0.1903, 0.7650, 0.8405,\n",
              "        0.0844, 0.0119, 0.9285, 0.0225, 0.1457, 0.9269, 0.8725, 0.4208, 0.8836,\n",
              "        0.0655, 0.2297, 0.7024, 0.0659, 0.7956, 0.7959, 0.4488, 0.8414, 0.1895,\n",
              "        0.0803, 0.1718, 0.5175, 0.5189, 0.9169, 0.1672, 0.8132, 0.6833, 0.8670,\n",
              "        0.8616, 0.1010, 0.2821, 0.2489, 0.7421, 0.8009, 0.7302, 0.8673, 0.0428,\n",
              "        0.5905], requires_grad=True)"
            ]
          },
          "metadata": {},
          "execution_count": 33
        }
      ]
    },
    {
      "cell_type": "code",
      "source": [
        "l.dim()"
      ],
      "metadata": {
        "colab": {
          "base_uri": "https://localhost:8080/"
        },
        "id": "HU75yXoGSD_s",
        "outputId": "f8f4db32-18d5-444d-8a0a-d0515e8499d5"
      },
      "execution_count": null,
      "outputs": [
        {
          "output_type": "execute_result",
          "data": {
            "text/plain": [
              "1"
            ]
          },
          "metadata": {},
          "execution_count": 230
        }
      ]
    },
    {
      "cell_type": "code",
      "source": [],
      "metadata": {
        "id": "aOHKmlh1ShzB"
      },
      "execution_count": null,
      "outputs": []
    },
    {
      "cell_type": "code",
      "source": [],
      "metadata": {
        "id": "WDkugyYHJEiy"
      },
      "execution_count": null,
      "outputs": []
    },
    {
      "cell_type": "code",
      "source": [
        "def get_kkt_loss(values, l, y, model):\n",
        "    l = l.squeeze()\n",
        "    # all three shape should be (n)\n",
        "    assert values.dim() == 1\n",
        "    assert l.dim() == 1\n",
        "    assert y.dim() == 1\n",
        "    assert values.shape == l.shape == y.shape\n",
        "\n",
        "    output = values * l * y\n",
        "    grad = torch.autograd.grad(\n",
        "        outputs=output,\n",
        "        inputs=model.parameters(),\n",
        "        grad_outputs=torch.ones_like(output, requires_grad=False, device=output.device).div(500),\n",
        "        create_graph=True,\n",
        "        retain_graph=True,\n",
        "    )\n",
        "    kkt_loss = 0\n",
        "\n",
        "    for i, (p, grad) in enumerate(zip(model.parameters(), grad)):\n",
        "        assert p.shape == grad.shape\n",
        "        l = (p.detach().data - grad).pow(2).sum()\n",
        "        kkt_loss += l\n",
        "    return kkt_loss"
      ],
      "metadata": {
        "id": "MUgMzumwDoHy"
      },
      "execution_count": null,
      "outputs": []
    },
    {
      "cell_type": "code",
      "source": [
        "kkt_loss=get_kkt_loss(values,l,y,model)"
      ],
      "metadata": {
        "id": "17jh4uxSPxBG"
      },
      "execution_count": null,
      "outputs": []
    },
    {
      "cell_type": "code",
      "source": [
        "kkt_loss"
      ],
      "metadata": {
        "colab": {
          "base_uri": "https://localhost:8080/"
        },
        "id": "qVHKz_qxP1K9",
        "outputId": "ce0c842d-1bc9-4e99-b57e-c85f8324cd39"
      },
      "execution_count": null,
      "outputs": [
        {
          "output_type": "execute_result",
          "data": {
            "text/plain": [
              "tensor(2020.0847, dtype=torch.float64, grad_fn=<AddBackward0>)"
            ]
          },
          "metadata": {},
          "execution_count": 234
        }
      ]
    },
    {
      "cell_type": "code",
      "source": [
        "def get_verify_loss(x, l):\n",
        "    loss_verify = 0\n",
        "    loss_verify += 1 * (x - 1).relu().pow(2).sum()\n",
        "    loss_verify += 1 * (-1 - x).relu().pow(2).sum()\n",
        "    loss_verify += 5 * (-l + 0.4983026413803425).relu().pow(2).sum()\n",
        "    return loss_verify"
      ],
      "metadata": {
        "id": "ANB0t9rATTl3"
      },
      "execution_count": null,
      "outputs": []
    },
    {
      "cell_type": "code",
      "source": [
        "loss_verify=get_verify_loss(x_recons,l)"
      ],
      "metadata": {
        "id": "p69FrcJFm7pk"
      },
      "execution_count": null,
      "outputs": []
    },
    {
      "cell_type": "code",
      "source": [
        "for epoch in range(50000):\n",
        "        values = model(x_recons.to(device)).squeeze()\n",
        "        kkt_loss, loss_verify =get_kkt_loss(values.to(device),l.to(device),y.to(device),model.to(device)),get_verify_loss(x_recons,l)\n",
        "        loss=kkt_loss+loss_verify\n",
        "        if np.isnan(kkt_loss.item()):\n",
        "            raise ValueError('Optimizer diverged during extraction')\n",
        "        opt_x_recons.zero_grad()\n",
        "        opt_l.zero_grad()\n",
        "        loss.backward()\n",
        "        opt_x_recons.step()\n",
        "        opt_l.step()\n",
        "        if(epoch%1000==0):\n",
        "          print(epoch,\" \",kkt_loss,\" \",loss)\n",
        "        "
      ],
      "metadata": {
        "id": "qIpnDa68nFkf"
      },
      "execution_count": null,
      "outputs": []
    },
    {
      "cell_type": "code",
      "source": [
        "kkt_loss"
      ],
      "metadata": {
        "colab": {
          "base_uri": "https://localhost:8080/"
        },
        "id": "J_nXpRYJznyU",
        "outputId": "a5d88d79-ab8b-4fa4-9a09-fb2d3eb6fba9"
      },
      "execution_count": null,
      "outputs": [
        {
          "output_type": "execute_result",
          "data": {
            "text/plain": [
              "tensor(2024.5291, dtype=torch.float64, grad_fn=<AddBackward0>)"
            ]
          },
          "metadata": {},
          "execution_count": 113
        }
      ]
    },
    {
      "cell_type": "code",
      "source": [
        "plt.scatter(x_recons[:,0].detach().numpy(), x_recons[:,1].detach().numpy(), c=y, cmap='coolwarm')\n",
        "plt.show()"
      ],
      "metadata": {
        "id": "0Nzw7NuaodfB"
      },
      "execution_count": null,
      "outputs": []
    },
    {
      "cell_type": "code",
      "source": [
        "model.parameters"
      ],
      "metadata": {
        "id": "T7pUBnnJsHYP"
      },
      "execution_count": null,
      "outputs": []
    },
    {
      "cell_type": "code",
      "source": [
        "y"
      ],
      "metadata": {
        "id": "Vo-00GM4rJW1"
      },
      "execution_count": null,
      "outputs": []
    },
    {
      "cell_type": "code",
      "source": [
        "l_updated=[]\n",
        "for i in range(len(l)):\n",
        "  if(l[i]<5):\n",
        "    l_updated.append(i)"
      ],
      "metadata": {
        "id": "2evIOH2mHbNr"
      },
      "execution_count": null,
      "outputs": []
    },
    {
      "cell_type": "code",
      "source": [
        "x_after_removing_lambda=[x_recons[i] for i in l_updated]"
      ],
      "metadata": {
        "id": "kEexwgb4GRAG"
      },
      "execution_count": null,
      "outputs": []
    },
    {
      "cell_type": "code",
      "source": [
        "y_updated=[y[i] for i in l_updated]"
      ],
      "metadata": {
        "id": "H8FKzlgDH7iB"
      },
      "execution_count": null,
      "outputs": []
    },
    {
      "cell_type": "code",
      "source": [
        "for i in x_after_removing_lambda:\n",
        "  i=torch.tensor(i)"
      ],
      "metadata": {
        "id": "MwcXyKoIIFTk"
      },
      "execution_count": null,
      "outputs": []
    },
    {
      "cell_type": "code",
      "source": [],
      "metadata": {
        "id": "J3PjxoA8JtQY"
      },
      "execution_count": null,
      "outputs": []
    },
    {
      "cell_type": "code",
      "source": [
        "for i in x_after_removing_lambda:\n",
        "  i=i.tolist()"
      ],
      "metadata": {
        "id": "o7e1VW39J_sp"
      },
      "execution_count": null,
      "outputs": []
    },
    {
      "cell_type": "code",
      "source": [
        "x_after_removing_lambda"
      ],
      "metadata": {
        "id": "dZjRczgPLgwY"
      },
      "execution_count": null,
      "outputs": []
    },
    {
      "cell_type": "code",
      "source": [
        "x_recons_list=x_recons.tolist()"
      ],
      "metadata": {
        "id": "V184_qWxHv0W"
      },
      "execution_count": null,
      "outputs": []
    },
    {
      "cell_type": "code",
      "source": [
        "x_recons_list=[x_recons_list[i] for i in l_updated]"
      ],
      "metadata": {
        "id": "YaZpP9xaHQtR"
      },
      "execution_count": null,
      "outputs": []
    },
    {
      "cell_type": "code",
      "source": [
        "x_recons_list"
      ],
      "metadata": {
        "id": "HB01bTn8L5PW"
      },
      "execution_count": null,
      "outputs": []
    },
    {
      "cell_type": "code",
      "source": [
        "y"
      ],
      "metadata": {
        "id": "3idRntgFMYFO"
      },
      "execution_count": null,
      "outputs": []
    },
    {
      "cell_type": "code",
      "source": [
        "l_updated #contains indices of l with l<5"
      ],
      "metadata": {
        "id": "hDq78uGWM8vx"
      },
      "execution_count": null,
      "outputs": []
    },
    {
      "cell_type": "code",
      "source": [],
      "metadata": {
        "id": "57FqGBBZNIi4"
      },
      "execution_count": null,
      "outputs": []
    }
  ]
}